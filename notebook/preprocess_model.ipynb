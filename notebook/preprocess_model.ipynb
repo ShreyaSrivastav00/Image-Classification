{
  "cells": [
    {
      "cell_type": "markdown",
      "metadata": {
        "id": "1iy-QY6JdHzK"
      },
      "source": [
        "**Preprocessing and Modeling on Features Set 1**"
      ]
    },
    {
      "cell_type": "markdown",
      "metadata": {
        "id": "xpVHXC6lR5wj"
      },
      "source": [
        "Features extracted-\n",
        "\n",
        "1.Histogram of Oriented Gradients (HOG)\n",
        "\n",
        "2.Color histogram\n",
        "\n",
        "3.Haralick texture features\n"
      ]
    },
    {
      "cell_type": "code",
      "execution_count": null,
      "metadata": {
        "id": "AFxacCybjdhC"
      },
      "outputs": [],
      "source": [
        "import os\n",
        "import cv2\n",
        "import numpy as np\n",
        "from sklearn.model_selection import train_test_split\n",
        "from sklearn.preprocessing import StandardScaler\n",
        "from skimage.feature import graycomatrix, graycoprops\n",
        "from tqdm import tqdm\n",
        "import random"
      ]
    },
    {
      "cell_type": "code",
      "execution_count": null,
      "metadata": {},
      "outputs": [],
      "source": [
        "data_dir = 'dataset/dataset_full'"
      ]
    },
    {
      "cell_type": "code",
      "execution_count": null,
      "metadata": {
        "id": "BiFUpPecgODg"
      },
      "outputs": [],
      "source": [
        "def resize_and_standardize(image_path, target_size=(150, 150)):\n",
        "    img = cv2.imread(image_path)\n",
        "    img = cv2.cvtColor(img, cv2.COLOR_BGR2RGB)\n",
        "    img = cv2.resize(img, target_size)\n",
        "    img = img.astype(np.float32) / 255.0  # Normalize to [0, 1]\n",
        "    return img\n",
        "\n",
        "def normalize_color(img):\n",
        "    return (img - np.mean(img)) / np.std(img)\n",
        "\n",
        "def extract_features(img):\n",
        "    # Histogram of Oriented Gradients (HOG)\n",
        "    gray = cv2.cvtColor((img * 255).astype(np.uint8), cv2.COLOR_RGB2GRAY)\n",
        "    hog_features = cv2.HOGDescriptor().compute(gray)\n",
        "\n",
        "    # Color histogram\n",
        "    hist = cv2.calcHist([img], [0, 1, 2], None, [8, 8, 8], [0, 1, 0, 1, 0, 1])\n",
        "    hist = cv2.normalize(hist, hist).flatten()\n",
        "\n",
        "    # Haralick texture features\n",
        "    gray = cv2.cvtColor((img * 255).astype(np.uint8), cv2.COLOR_RGB2GRAY)\n",
        "    glcm = graycomatrix(gray, [1], [0], 256, symmetric=True, normed=True)\n",
        "    haralick = np.hstack([graycoprops(glcm, prop).ravel() for prop in ['contrast', 'dissimilarity', 'homogeneity', 'energy', 'correlation']])\n",
        "    return np.concatenate([hog_features.flatten(), hist, haralick])\n",
        "\n",
        "#taking only 500 imges from each class\n",
        "def preprocess_dataset(data_dir, target_size=(150, 150), max_per_class=500):\n",
        "    X = []\n",
        "    y = []\n",
        "    class_names = []\n",
        "\n",
        "    for class_name in os.listdir(data_dir):\n",
        "        class_path = os.path.join(data_dir, class_name)\n",
        "        if os.path.isdir(class_path):\n",
        "            class_names.append(class_name)\n",
        "            image_paths = [os.path.join(class_path, img_name) for img_name in os.listdir(class_path)\n",
        "                           if img_name.lower().endswith(('.png', '.jpg', '.jpeg', '.bmp', '.tiff'))]\n",
        "\n",
        "            # If it's the Forest class and has more than max_per_class images, randomly sample max_per_class images\n",
        "            if class_name == 'Forest' and len(image_paths) > max_per_class:\n",
        "                image_paths = random.sample(image_paths, max_per_class)\n",
        "\n",
        "            for img_path in tqdm(image_paths, desc=f\"Processing {class_name}\"):\n",
        "                img = resize_and_standardize(img_path, target_size)\n",
        "                img = normalize_color(img)\n",
        "                features = extract_features(img)\n",
        "                X.append(features)\n",
        "                y.append(class_names.index(class_name))\n",
        "\n",
        "    X = np.array(X)\n",
        "    y = np.array(y)\n",
        "\n",
        "    # Train-test split\n",
        "    X_train, X_test, y_train, y_test = train_test_split(X, y, test_size=0.2, stratify=y, random_state=42)\n",
        "\n",
        "    # Feature scaling\n",
        "    scaler = StandardScaler()\n",
        "    X_train_scaled = scaler.fit_transform(X_train)\n",
        "    X_test_scaled = scaler.transform(X_test)\n",
        "\n",
        "    return X_train_scaled, X_test_scaled, y_train, y_test, class_names, scaler\n",
        "\n"
      ]
    },
    {
      "cell_type": "code",
      "execution_count": null,
      "metadata": {
        "colab": {
          "base_uri": "https://localhost:8080/"
        },
        "id": "K4uBQnjhgr-2",
        "outputId": "e9ee266e-76a5-46fc-f9fc-daa862ee02da"
      },
      "outputs": [
        {
          "name": "stderr",
          "output_type": "stream",
          "text": [
            "Processing Streets: 100%|██████████| 500/500 [00:03<00:00, 141.30it/s]\n",
            "Processing Forest: 100%|██████████| 500/500 [00:03<00:00, 139.50it/s]\n",
            "Processing Sea: 100%|██████████| 500/500 [00:04<00:00, 123.67it/s]\n",
            "Processing Glacier: 100%|██████████| 500/500 [00:04<00:00, 119.94it/s]\n",
            "Processing Building: 100%|██████████| 500/500 [00:03<00:00, 145.03it/s]\n",
            "Processing Mountains: 100%|██████████| 500/500 [00:03<00:00, 144.79it/s]\n"
          ]
        },
        {
          "name": "stdout",
          "output_type": "stream",
          "text": [
            "Preprocessed dataset shapes:\n",
            "X_train: (2400, 125257)\n",
            "X_test: (600, 125257)\n",
            "y_train: (2400,)\n",
            "y_test: (600,)\n",
            "Number of classes: 6\n",
            "Class names: ['Streets', 'Forest', 'Sea', 'Glacier', 'Building', 'Mountains']\n"
          ]
        }
      ],
      "source": [
        "X_train, X_test, y_train, y_test, class_names, scaler = preprocess_dataset(data_dir)\n",
        "\n",
        "print(\"Preprocessed dataset shapes:\")\n",
        "print(f\"X_train: {X_train.shape}\")\n",
        "print(f\"X_test: {X_test.shape}\")\n",
        "print(f\"y_train: {y_train.shape}\")\n",
        "print(f\"y_test: {y_test.shape}\")\n",
        "print(f\"Number of classes: {len(class_names)}\")\n",
        "print(f\"Class names: {class_names}\")\n"
      ]
    },
    {
      "cell_type": "code",
      "execution_count": null,
      "metadata": {
        "colab": {
          "base_uri": "https://localhost:8080/"
        },
        "id": "SHgOMHXEs7nG",
        "outputId": "db7e9884-681b-45df-d820-6729435f5e87"
      },
      "outputs": [
        {
          "name": "stdout",
          "output_type": "stream",
          "text": [
            "All preprocessed data has been saved successfully.\n"
          ]
        }
      ],
      "source": [
        "import joblib\n",
        "import os\n",
        "\n",
        "# Directory to save the files\n",
        "save_dir = \"/content/drive/MyDrive/preprocessed_data\"\n",
        "os.makedirs(save_dir, exist_ok=True)\n",
        "\n",
        "# Save the datasets\n",
        "joblib.dump(X_train, os.path.join(save_dir, 'X_train.pkl'))\n",
        "joblib.dump(X_test, os.path.join(save_dir, 'X_test.pkl'))\n",
        "joblib.dump(y_train, os.path.join(save_dir, 'y_train.pkl'))\n",
        "joblib.dump(y_test, os.path.join(save_dir, 'y_test.pkl'))\n",
        "joblib.dump(scaler, os.path.join(save_dir, 'scaler.pkl'))\n",
        "\n",
        "print(\"All preprocessed data has been saved successfully.\")\n"
      ]
    },
    {
      "cell_type": "code",
      "execution_count": null,
      "metadata": {
        "id": "N7uYhOc2hNAn"
      },
      "outputs": [],
      "source": [
        "import numpy as np\n",
        "import matplotlib.pyplot as plt\n",
        "from sklearn.decomposition import PCA\n",
        "\n",
        "# Fit PCA to the training data\n",
        "pca = PCA().fit(X_train)\n",
        "\n",
        "# Calculate the cumulative explained variance\n",
        "cumulative_explained_variance = np.cumsum(pca.explained_variance_ratio_)\n",
        "\n",
        "# Plot the explained variance\n",
        "plt.figure(figsize=(6, 6))\n",
        "plt.plot(range(1, len(cumulative_explained_variance) + 1), cumulative_explained_variance, marker='o', linestyle='--')\n",
        "plt.xlabel('Number of Components')\n",
        "plt.ylabel('Cumulative Explained Variance')\n",
        "plt.title('Explained Variance vs. Number of Components')\n",
        "plt.axhline(y=0.95, color='r', linestyle='-')\n",
        "plt.axvline(x=np.argmax(cumulative_explained_variance >= 0.90) + 1, color='r', linestyle='-')\n",
        "plt.grid()\n",
        "plt.show()\n",
        "\n",
        "# Print the number of components needed to explain 90% variance\n",
        "optimal_components = np.argmax(cumulative_explained_variance >= 0.90) + 1\n",
        "print(f\"Optimal number of components to retain 90% variance: {optimal_components}\")\n"
      ]
    },
    {
      "cell_type": "code",
      "execution_count": null,
      "metadata": {
        "id": "hIGnjXN0vsdj"
      },
      "outputs": [],
      "source": [
        "optimal_components=1199"
      ]
    },
    {
      "cell_type": "code",
      "execution_count": null,
      "metadata": {
        "colab": {
          "base_uri": "https://localhost:8080/"
        },
        "id": "ZvLN4uPkhza7",
        "outputId": "533641e3-4b70-44bd-e0b0-ce74da05efb0"
      },
      "outputs": [
        {
          "name": "stdout",
          "output_type": "stream",
          "text": [
            "Original number of features: 125257\n",
            "Number of features after PCA: 1199\n"
          ]
        }
      ],
      "source": [
        "# Fit PCA with the optimal number of components\n",
        "optimal_pca = PCA(n_components=optimal_components)\n",
        "X_train_pca = optimal_pca.fit_transform(X_train)\n",
        "X_test_pca = optimal_pca.transform(X_test)\n",
        "\n",
        "print(f\"Original number of features: {X_train.shape[1]}\")\n",
        "print(f\"Number of features after PCA: {X_train_pca.shape[1]}\")\n"
      ]
    },
    {
      "cell_type": "code",
      "execution_count": null,
      "metadata": {
        "colab": {
          "base_uri": "https://localhost:8080/"
        },
        "id": "x7ZVjcbOqvwT",
        "outputId": "411eb2ba-8fff-49e0-f52b-32344aee7130"
      },
      "outputs": [
        {
          "name": "stdout",
          "output_type": "stream",
          "text": [
            "PCA-transformed datasets and PCA object have been saved.\n"
          ]
        }
      ],
      "source": [
        "# Save the PCA-transformed training data\n",
        "np.save('/content/drive/MyDrive/preprocessed_data/X_train_pca.npy', X_train_pca)\n",
        "np.save('/content/drive/MyDrive/preprocessed_data/y_train.npy', y_train)\n",
        "\n",
        "# Save the PCA-transformed test data\n",
        "np.save('/content/drive/MyDrive/preprocessed_data/X_test_pca.npy', X_test_pca)\n",
        "np.save('/content/drive/MyDrive/preprocessed_data/y_test.npy', y_test)\n",
        "\n",
        "# Save the PCA object itself\n",
        "joblib.dump(optimal_pca, '/content/drive/MyDrive/preprocessed_data/optimal_pca.joblib')\n",
        "\n",
        "print(\"PCA-transformed datasets and PCA object have been saved.\")"
      ]
    },
    {
      "cell_type": "markdown",
      "metadata": {
        "id": "hJ2x1e3whqRj"
      },
      "source": [
        "**Random Forest on Feature set 1**"
      ]
    },
    {
      "cell_type": "code",
      "execution_count": null,
      "metadata": {
        "colab": {
          "base_uri": "https://localhost:8080/"
        },
        "id": "98uZQbahC8Ew",
        "outputId": "f6fb3dc9-680c-415a-9937-dc485465179c"
      },
      "outputs": [
        {
          "name": "stderr",
          "output_type": "stream",
          "text": [
            "[I 2024-06-22 03:48:16,804] A new study created in memory with name: no-name-a0a6449d-f210-4c19-b9b4-b40bbdb870b6\n"
          ]
        },
        {
          "name": "stdout",
          "output_type": "stream",
          "text": [
            "Optimizing hyperparameters using Optuna...\n"
          ]
        },
        {
          "name": "stderr",
          "output_type": "stream",
          "text": [
            "[I 2024-06-22 03:49:20,836] Trial 0 finished with value: 0.5133333333333333 and parameters: {'n_estimators': 473, 'max_depth': 22}. Best is trial 0 with value: 0.5133333333333333.\n",
            "[I 2024-06-22 03:49:35,747] Trial 1 finished with value: 0.48 and parameters: {'n_estimators': 168, 'max_depth': 22}. Best is trial 0 with value: 0.5133333333333333.\n",
            "[I 2024-06-22 03:49:49,077] Trial 2 finished with value: 0.485 and parameters: {'n_estimators': 148, 'max_depth': 25}. Best is trial 0 with value: 0.5133333333333333.\n",
            "[I 2024-06-22 03:50:01,885] Trial 3 finished with value: 0.47333333333333333 and parameters: {'n_estimators': 139, 'max_depth': 99}. Best is trial 0 with value: 0.5133333333333333.\n",
            "[I 2024-06-22 03:50:44,226] Trial 4 finished with value: 0.505 and parameters: {'n_estimators': 494, 'max_depth': 17}. Best is trial 0 with value: 0.5133333333333333.\n",
            "[I 2024-06-22 03:51:21,168] Trial 5 finished with value: 0.5133333333333333 and parameters: {'n_estimators': 253, 'max_depth': 22}. Best is trial 0 with value: 0.5133333333333333.\n",
            "[I 2024-06-22 03:52:07,291] Trial 6 finished with value: 0.51 and parameters: {'n_estimators': 486, 'max_depth': 49}. Best is trial 0 with value: 0.5133333333333333.\n",
            "[I 2024-06-22 03:53:07,669] Trial 7 finished with value: 0.525 and parameters: {'n_estimators': 328, 'max_depth': 99}. Best is trial 7 with value: 0.525.\n",
            "[I 2024-06-22 03:53:44,402] Trial 8 finished with value: 0.5183333333333333 and parameters: {'n_estimators': 416, 'max_depth': None}. Best is trial 7 with value: 0.525.\n",
            "[I 2024-06-22 03:54:02,653] Trial 9 finished with value: 0.49666666666666665 and parameters: {'n_estimators': 202, 'max_depth': 49}. Best is trial 7 with value: 0.525.\n",
            "[I 2024-06-22 03:54:37,260] Trial 10 finished with value: 0.5316666666666666 and parameters: {'n_estimators': 353, 'max_depth': 99}. Best is trial 10 with value: 0.5316666666666666.\n",
            "[I 2024-06-22 03:55:10,100] Trial 11 finished with value: 0.5283333333333333 and parameters: {'n_estimators': 347, 'max_depth': 99}. Best is trial 10 with value: 0.5316666666666666.\n",
            "[I 2024-06-22 03:55:33,906] Trial 12 finished with value: 0.48 and parameters: {'n_estimators': 340, 'max_depth': 10}. Best is trial 10 with value: 0.5316666666666666.\n",
            "[I 2024-06-22 03:56:10,444] Trial 13 finished with value: 0.5183333333333333 and parameters: {'n_estimators': 396, 'max_depth': 99}. Best is trial 10 with value: 0.5316666666666666.\n",
            "[I 2024-06-22 03:56:37,482] Trial 14 finished with value: 0.505 and parameters: {'n_estimators': 274, 'max_depth': 33}. Best is trial 10 with value: 0.5316666666666666.\n",
            "[I 2024-06-22 03:57:11,645] Trial 15 finished with value: 0.5116666666666667 and parameters: {'n_estimators': 385, 'max_depth': 48}. Best is trial 10 with value: 0.5316666666666666.\n",
            "[I 2024-06-22 03:57:42,325] Trial 16 finished with value: 0.5216666666666666 and parameters: {'n_estimators': 343, 'max_depth': 75}. Best is trial 10 with value: 0.5316666666666666.\n",
            "[I 2024-06-22 03:58:05,302] Trial 17 finished with value: 0.5083333333333333 and parameters: {'n_estimators': 239, 'max_depth': 35}. Best is trial 10 with value: 0.5316666666666666.\n",
            "[I 2024-06-22 03:58:53,102] Trial 18 finished with value: 0.5166666666666667 and parameters: {'n_estimators': 433, 'max_depth': 99}. Best is trial 10 with value: 0.5316666666666666.\n",
            "[I 2024-06-22 03:59:23,151] Trial 19 finished with value: 0.505 and parameters: {'n_estimators': 294, 'max_depth': 99}. Best is trial 10 with value: 0.5316666666666666.\n",
            "[I 2024-06-22 03:59:56,429] Trial 20 finished with value: 0.515 and parameters: {'n_estimators': 367, 'max_depth': 33}. Best is trial 10 with value: 0.5316666666666666.\n",
            "[I 2024-06-22 04:00:26,684] Trial 21 finished with value: 0.525 and parameters: {'n_estimators': 328, 'max_depth': 99}. Best is trial 10 with value: 0.5316666666666666.\n",
            "[I 2024-06-22 04:00:55,726] Trial 22 finished with value: 0.53 and parameters: {'n_estimators': 316, 'max_depth': 99}. Best is trial 10 with value: 0.5316666666666666.\n",
            "[I 2024-06-22 04:01:22,783] Trial 23 finished with value: 0.505 and parameters: {'n_estimators': 294, 'max_depth': 99}. Best is trial 10 with value: 0.5316666666666666.\n",
            "[I 2024-06-22 04:01:57,355] Trial 24 finished with value: 0.5166666666666667 and parameters: {'n_estimators': 362, 'max_depth': 35}. Best is trial 10 with value: 0.5316666666666666.\n",
            "[I 2024-06-22 04:02:06,569] Trial 25 finished with value: 0.465 and parameters: {'n_estimators': 107, 'max_depth': 25}. Best is trial 10 with value: 0.5316666666666666.\n",
            "[I 2024-06-22 04:02:46,945] Trial 26 finished with value: 0.5133333333333333 and parameters: {'n_estimators': 441, 'max_depth': 48}. Best is trial 10 with value: 0.5316666666666666.\n",
            "[I 2024-06-22 04:03:07,097] Trial 27 finished with value: 0.47333333333333333 and parameters: {'n_estimators': 226, 'max_depth': 17}. Best is trial 10 with value: 0.5316666666666666.\n",
            "[I 2024-06-22 04:03:35,376] Trial 28 finished with value: 0.5216666666666666 and parameters: {'n_estimators': 307, 'max_depth': 75}. Best is trial 10 with value: 0.5316666666666666.\n",
            "[I 2024-06-22 04:03:55,288] Trial 29 finished with value: 0.4716666666666667 and parameters: {'n_estimators': 265, 'max_depth': 10}. Best is trial 10 with value: 0.5316666666666666.\n",
            "[I 2024-06-22 04:04:37,142] Trial 30 finished with value: 0.51 and parameters: {'n_estimators': 459, 'max_depth': None}. Best is trial 10 with value: 0.5316666666666666.\n",
            "[I 2024-06-22 04:05:06,149] Trial 31 finished with value: 0.5333333333333333 and parameters: {'n_estimators': 319, 'max_depth': 99}. Best is trial 31 with value: 0.5333333333333333.\n",
            "[I 2024-06-22 04:05:40,606] Trial 32 finished with value: 0.52 and parameters: {'n_estimators': 372, 'max_depth': 99}. Best is trial 31 with value: 0.5333333333333333.\n",
            "[I 2024-06-22 04:06:09,300] Trial 33 finished with value: 0.52 and parameters: {'n_estimators': 306, 'max_depth': 99}. Best is trial 31 with value: 0.5333333333333333.\n",
            "[I 2024-06-22 04:06:49,527] Trial 34 finished with value: 0.5183333333333333 and parameters: {'n_estimators': 396, 'max_depth': 99}. Best is trial 31 with value: 0.5333333333333333.\n",
            "[I 2024-06-22 04:07:20,285] Trial 35 finished with value: 0.5066666666666667 and parameters: {'n_estimators': 350, 'max_depth': 22}. Best is trial 31 with value: 0.5333333333333333.\n",
            "[I 2024-06-22 04:07:50,487] Trial 36 finished with value: 0.5333333333333333 and parameters: {'n_estimators': 319, 'max_depth': 99}. Best is trial 31 with value: 0.5333333333333333.\n",
            "[I 2024-06-22 04:08:18,843] Trial 37 finished with value: 0.5116666666666667 and parameters: {'n_estimators': 318, 'max_depth': 25}. Best is trial 31 with value: 0.5333333333333333.\n",
            "[I 2024-06-22 04:08:44,766] Trial 38 finished with value: 0.5116666666666667 and parameters: {'n_estimators': 282, 'max_depth': 99}. Best is trial 31 with value: 0.5333333333333333.\n",
            "[I 2024-06-22 04:09:03,198] Trial 39 finished with value: 0.4816666666666667 and parameters: {'n_estimators': 223, 'max_depth': 17}. Best is trial 31 with value: 0.5333333333333333.\n",
            "[I 2024-06-22 04:09:19,402] Trial 40 finished with value: 0.49666666666666665 and parameters: {'n_estimators': 178, 'max_depth': 49}. Best is trial 31 with value: 0.5333333333333333.\n",
            "[I 2024-06-22 04:09:50,542] Trial 41 finished with value: 0.5266666666666666 and parameters: {'n_estimators': 324, 'max_depth': 99}. Best is trial 31 with value: 0.5333333333333333.\n",
            "[I 2024-06-22 04:10:21,985] Trial 42 finished with value: 0.53 and parameters: {'n_estimators': 350, 'max_depth': 99}. Best is trial 31 with value: 0.5333333333333333.\n",
            "[I 2024-06-22 04:11:00,195] Trial 43 finished with value: 0.5166666666666667 and parameters: {'n_estimators': 414, 'max_depth': 99}. Best is trial 31 with value: 0.5333333333333333.\n",
            "[I 2024-06-22 04:11:25,004] Trial 44 finished with value: 0.51 and parameters: {'n_estimators': 256, 'max_depth': 99}. Best is trial 31 with value: 0.5333333333333333.\n",
            "[I 2024-06-22 04:11:56,552] Trial 45 finished with value: 0.5083333333333333 and parameters: {'n_estimators': 362, 'max_depth': 22}. Best is trial 31 with value: 0.5333333333333333.\n",
            "[I 2024-06-22 04:12:30,892] Trial 46 finished with value: 0.5133333333333333 and parameters: {'n_estimators': 383, 'max_depth': 99}. Best is trial 31 with value: 0.5333333333333333.\n",
            "[I 2024-06-22 04:12:59,771] Trial 47 finished with value: 0.525 and parameters: {'n_estimators': 315, 'max_depth': None}. Best is trial 31 with value: 0.5333333333333333.\n",
            "[I 2024-06-22 04:13:20,919] Trial 48 finished with value: 0.47833333333333333 and parameters: {'n_estimators': 284, 'max_depth': 10}. Best is trial 31 with value: 0.5333333333333333.\n",
            "[I 2024-06-22 04:13:52,357] Trial 49 finished with value: 0.52 and parameters: {'n_estimators': 340, 'max_depth': 33}. Best is trial 31 with value: 0.5333333333333333.\n",
            "[I 2024-06-22 04:14:28,106] Trial 50 finished with value: 0.5166666666666667 and parameters: {'n_estimators': 398, 'max_depth': 99}. Best is trial 31 with value: 0.5333333333333333.\n",
            "[I 2024-06-22 04:15:00,903] Trial 51 finished with value: 0.5283333333333333 and parameters: {'n_estimators': 348, 'max_depth': 99}. Best is trial 31 with value: 0.5333333333333333.\n",
            "[I 2024-06-22 04:15:31,970] Trial 52 finished with value: 0.525 and parameters: {'n_estimators': 330, 'max_depth': 99}. Best is trial 31 with value: 0.5333333333333333.\n",
            "[I 2024-06-22 04:15:59,624] Trial 53 finished with value: 0.5166666666666667 and parameters: {'n_estimators': 302, 'max_depth': 48}. Best is trial 31 with value: 0.5333333333333333.\n",
            "[I 2024-06-22 04:16:31,770] Trial 54 finished with value: 0.5266666666666666 and parameters: {'n_estimators': 354, 'max_depth': 99}. Best is trial 31 with value: 0.5333333333333333.\n",
            "[I 2024-06-22 04:17:07,918] Trial 55 finished with value: 0.5083333333333333 and parameters: {'n_estimators': 379, 'max_depth': 35}. Best is trial 31 with value: 0.5333333333333333.\n",
            "[I 2024-06-22 04:17:37,982] Trial 56 finished with value: 0.5316666666666666 and parameters: {'n_estimators': 333, 'max_depth': 75}. Best is trial 31 with value: 0.5333333333333333.\n",
            "[I 2024-06-22 04:18:07,993] Trial 57 finished with value: 0.5316666666666666 and parameters: {'n_estimators': 333, 'max_depth': 75}. Best is trial 31 with value: 0.5333333333333333.\n",
            "[I 2024-06-22 04:18:33,541] Trial 58 finished with value: 0.5116666666666667 and parameters: {'n_estimators': 276, 'max_depth': 75}. Best is trial 31 with value: 0.5333333333333333.\n",
            "[I 2024-06-22 04:19:04,644] Trial 59 finished with value: 0.525 and parameters: {'n_estimators': 328, 'max_depth': 75}. Best is trial 31 with value: 0.5333333333333333.\n",
            "[I 2024-06-22 04:19:32,913] Trial 60 finished with value: 0.525 and parameters: {'n_estimators': 311, 'max_depth': 75}. Best is trial 31 with value: 0.5333333333333333.\n",
            "[I 2024-06-22 04:20:03,529] Trial 61 finished with value: 0.5216666666666666 and parameters: {'n_estimators': 339, 'max_depth': 75}. Best is trial 31 with value: 0.5333333333333333.\n",
            "[I 2024-06-22 04:20:30,503] Trial 62 finished with value: 0.5066666666666667 and parameters: {'n_estimators': 293, 'max_depth': 75}. Best is trial 31 with value: 0.5333333333333333.\n",
            "[I 2024-06-22 04:21:04,810] Trial 63 finished with value: 0.5216666666666666 and parameters: {'n_estimators': 363, 'max_depth': 49}. Best is trial 31 with value: 0.5333333333333333.\n",
            "[I 2024-06-22 04:21:35,157] Trial 64 finished with value: 0.5316666666666666 and parameters: {'n_estimators': 334, 'max_depth': 75}. Best is trial 31 with value: 0.5333333333333333.\n",
            "[I 2024-06-22 04:22:05,320] Trial 65 finished with value: 0.5283333333333333 and parameters: {'n_estimators': 332, 'max_depth': 75}. Best is trial 31 with value: 0.5333333333333333.\n",
            "[I 2024-06-22 04:22:29,728] Trial 66 finished with value: 0.51 and parameters: {'n_estimators': 267, 'max_depth': 75}. Best is trial 31 with value: 0.5333333333333333.\n",
            "[I 2024-06-22 04:22:57,572] Trial 67 finished with value: 0.51 and parameters: {'n_estimators': 292, 'max_depth': 75}. Best is trial 31 with value: 0.5333333333333333.\n",
            "[I 2024-06-22 04:23:26,250] Trial 68 finished with value: 0.51 and parameters: {'n_estimators': 320, 'max_depth': 25}. Best is trial 31 with value: 0.5333333333333333.\n",
            "[I 2024-06-22 04:23:53,812] Trial 69 finished with value: 0.52 and parameters: {'n_estimators': 304, 'max_depth': 75}. Best is trial 31 with value: 0.5333333333333333.\n",
            "[I 2024-06-22 04:24:25,755] Trial 70 finished with value: 0.48833333333333334 and parameters: {'n_estimators': 372, 'max_depth': 17}. Best is trial 31 with value: 0.5333333333333333.\n",
            "[I 2024-06-22 04:24:59,788] Trial 71 finished with value: 0.525 and parameters: {'n_estimators': 350, 'max_depth': 33}. Best is trial 31 with value: 0.5333333333333333.\n",
            "[I 2024-06-22 04:25:31,102] Trial 72 finished with value: 0.5216666666666666 and parameters: {'n_estimators': 341, 'max_depth': 99}. Best is trial 31 with value: 0.5333333333333333.\n",
            "[I 2024-06-22 04:26:03,067] Trial 73 finished with value: 0.53 and parameters: {'n_estimators': 356, 'max_depth': 48}. Best is trial 31 with value: 0.5333333333333333.\n",
            "[I 2024-06-22 04:26:41,235] Trial 74 finished with value: 0.5116666666666667 and parameters: {'n_estimators': 406, 'max_depth': None}. Best is trial 31 with value: 0.5333333333333333.\n",
            "[I 2024-06-22 04:27:03,643] Trial 75 finished with value: 0.47333333333333333 and parameters: {'n_estimators': 322, 'max_depth': 10}. Best is trial 31 with value: 0.5333333333333333.\n",
            "[I 2024-06-22 04:27:37,327] Trial 76 finished with value: 0.5016666666666667 and parameters: {'n_estimators': 387, 'max_depth': 22}. Best is trial 31 with value: 0.5333333333333333.\n",
            "[I 2024-06-22 04:28:05,830] Trial 77 finished with value: 0.525 and parameters: {'n_estimators': 313, 'max_depth': 99}. Best is trial 31 with value: 0.5333333333333333.\n",
            "[I 2024-06-22 04:28:29,822] Trial 78 finished with value: 0.5016666666666667 and parameters: {'n_estimators': 243, 'max_depth': 35}. Best is trial 31 with value: 0.5333333333333333.\n",
            "[I 2024-06-22 04:29:00,108] Trial 79 finished with value: 0.5316666666666666 and parameters: {'n_estimators': 334, 'max_depth': 99}. Best is trial 31 with value: 0.5333333333333333.\n",
            "[I 2024-06-22 04:29:30,429] Trial 80 finished with value: 0.5283333333333333 and parameters: {'n_estimators': 335, 'max_depth': 75}. Best is trial 31 with value: 0.5333333333333333.\n",
            "[I 2024-06-22 04:30:04,071] Trial 81 finished with value: 0.52 and parameters: {'n_estimators': 372, 'max_depth': 99}. Best is trial 31 with value: 0.5333333333333333.\n",
            "[I 2024-06-22 04:30:38,909] Trial 82 finished with value: 0.53 and parameters: {'n_estimators': 356, 'max_depth': 99}. Best is trial 31 with value: 0.5333333333333333.\n",
            "[I 2024-06-22 04:31:09,855] Trial 83 finished with value: 0.5216666666666666 and parameters: {'n_estimators': 343, 'max_depth': 99}. Best is trial 31 with value: 0.5333333333333333.\n",
            "[I 2024-06-22 04:31:37,424] Trial 84 finished with value: 0.5233333333333333 and parameters: {'n_estimators': 300, 'max_depth': 99}. Best is trial 31 with value: 0.5333333333333333.\n",
            "[I 2024-06-22 04:32:02,972] Trial 85 finished with value: 0.505 and parameters: {'n_estimators': 288, 'max_depth': 99}. Best is trial 31 with value: 0.5333333333333333.\n",
            "[I 2024-06-22 04:32:33,679] Trial 86 finished with value: 0.5333333333333333 and parameters: {'n_estimators': 319, 'max_depth': 49}. Best is trial 31 with value: 0.5333333333333333.\n",
            "[I 2024-06-22 04:33:02,692] Trial 87 finished with value: 0.5316666666666666 and parameters: {'n_estimators': 318, 'max_depth': 49}. Best is trial 31 with value: 0.5333333333333333.\n",
            "[I 2024-06-22 04:33:32,533] Trial 88 finished with value: 0.53 and parameters: {'n_estimators': 326, 'max_depth': 49}. Best is trial 31 with value: 0.5333333333333333.\n",
            "[I 2024-06-22 04:34:00,535] Trial 89 finished with value: 0.5233333333333333 and parameters: {'n_estimators': 310, 'max_depth': 49}. Best is trial 31 with value: 0.5333333333333333.\n",
            "[I 2024-06-22 04:34:32,564] Trial 90 finished with value: 0.5283333333333333 and parameters: {'n_estimators': 336, 'max_depth': 49}. Best is trial 31 with value: 0.5333333333333333.\n",
            "[I 2024-06-22 04:35:01,306] Trial 91 finished with value: 0.5316666666666666 and parameters: {'n_estimators': 318, 'max_depth': 49}. Best is trial 31 with value: 0.5333333333333333.\n",
            "[I 2024-06-22 04:35:30,284] Trial 92 finished with value: 0.525 and parameters: {'n_estimators': 320, 'max_depth': 49}. Best is trial 31 with value: 0.5333333333333333.\n",
            "[I 2024-06-22 04:35:58,705] Trial 93 finished with value: 0.52 and parameters: {'n_estimators': 303, 'max_depth': 49}. Best is trial 31 with value: 0.5333333333333333.\n",
            "[I 2024-06-22 04:36:25,279] Trial 94 finished with value: 0.515 and parameters: {'n_estimators': 279, 'max_depth': 49}. Best is trial 31 with value: 0.5333333333333333.\n",
            "[I 2024-06-22 04:36:55,224] Trial 95 finished with value: 0.525 and parameters: {'n_estimators': 330, 'max_depth': 49}. Best is trial 31 with value: 0.5333333333333333.\n",
            "[I 2024-06-22 04:37:27,806] Trial 96 finished with value: 0.5233333333333333 and parameters: {'n_estimators': 362, 'max_depth': 49}. Best is trial 31 with value: 0.5333333333333333.\n",
            "[I 2024-06-22 04:37:57,372] Trial 97 finished with value: 0.5033333333333333 and parameters: {'n_estimators': 314, 'max_depth': 25}. Best is trial 31 with value: 0.5333333333333333.\n",
            "[I 2024-06-22 04:38:24,501] Trial 98 finished with value: 0.5066666666666667 and parameters: {'n_estimators': 295, 'max_depth': 49}. Best is trial 31 with value: 0.5333333333333333.\n",
            "[I 2024-06-22 04:38:33,607] Trial 99 finished with value: 0.465 and parameters: {'n_estimators': 101, 'max_depth': 17}. Best is trial 31 with value: 0.5333333333333333.\n"
          ]
        },
        {
          "name": "stdout",
          "output_type": "stream",
          "text": [
            "Best hyperparameters:\n",
            "{'n_estimators': 319, 'max_depth': 99}\n"
          ]
        }
      ],
      "source": [
        "import numpy as np\n",
        "from sklearn.ensemble import RandomForestClassifier\n",
        "from sklearn.metrics import accuracy_score, classification_report, confusion_matrix\n",
        "import optuna\n",
        "from scipy.stats import randint as sp_randint\n",
        "import joblib\n",
        "import matplotlib.pyplot as plt\n",
        "import seaborn as sns\n",
        "\n",
        "# Load the PCA-transformed data\n",
        "X_train_pca = np.load('/content/drive/MyDrive/preprocessed_data/X_train_pca.npy')\n",
        "y_train = np.load('/content/drive/MyDrive/preprocessed_data/y_train.npy')\n",
        "X_test_pca = np.load('/content/drive/MyDrive/preprocessed_data/X_test_pca.npy')\n",
        "y_test = np.load('/content/drive/MyDrive/preprocessed_data/y_test.npy')\n",
        "\n",
        "# Define the parameter space\n",
        "param_dist = {\n",
        "    'n_estimators': sp_randint(100, 500),\n",
        "    'max_depth': [None] + list(sp_randint(10, 100).rvs(10))\n",
        "}\n",
        "\n",
        "# Define the objective function for Optuna\n",
        "def objective(trial):\n",
        "    # Sample hyperparameters from the parameter space\n",
        "    n_estimators = trial.suggest_int('n_estimators', param_dist['n_estimators'].a, param_dist['n_estimators'].b)\n",
        "    max_depth = trial.suggest_categorical('max_depth', param_dist['max_depth'])\n",
        "\n",
        "    # Create the Random Forest classifier with the sampled hyperparameters\n",
        "    rf = RandomForestClassifier(\n",
        "        n_estimators=n_estimators,\n",
        "        max_depth=max_depth,\n",
        "        random_state=42\n",
        "    )\n",
        "\n",
        "    # Fit the Random Forest classifier\n",
        "    rf.fit(X_train_pca, y_train)\n",
        "    # Make predictions on the test set\n",
        "    y_pred = rf.predict(X_test_pca)\n",
        "    # Calculate accuracy as the objective value\n",
        "    accuracy = accuracy_score(y_test, y_pred)\n",
        "    return accuracy\n",
        "\n",
        "# Create an Optuna study\n",
        "study = optuna.create_study(direction='maximize')\n",
        "\n",
        "# Optimize the hyperparameters\n",
        "print(\"Optimizing hyperparameters using Optuna...\")\n",
        "study.optimize(objective, n_trials=100)\n",
        "\n",
        "# Print the best hyperparameters\n",
        "print(\"Best hyperparameters:\")\n",
        "print(study.best_params)"
      ]
    },
    {
      "cell_type": "code",
      "execution_count": null,
      "metadata": {
        "colab": {
          "base_uri": "https://localhost:8080/",
          "height": 75
        },
        "id": "fwlwc1V-PIe8",
        "outputId": "1a5de6c0-649c-427d-fda3-397b99a4da0f"
      },
      "outputs": [
        {
          "data": {
            "text/html": [
              "<style>#sk-container-id-1 {color: black;background-color: white;}#sk-container-id-1 pre{padding: 0;}#sk-container-id-1 div.sk-toggleable {background-color: white;}#sk-container-id-1 label.sk-toggleable__label {cursor: pointer;display: block;width: 100%;margin-bottom: 0;padding: 0.3em;box-sizing: border-box;text-align: center;}#sk-container-id-1 label.sk-toggleable__label-arrow:before {content: \"▸\";float: left;margin-right: 0.25em;color: #696969;}#sk-container-id-1 label.sk-toggleable__label-arrow:hover:before {color: black;}#sk-container-id-1 div.sk-estimator:hover label.sk-toggleable__label-arrow:before {color: black;}#sk-container-id-1 div.sk-toggleable__content {max-height: 0;max-width: 0;overflow: hidden;text-align: left;background-color: #f0f8ff;}#sk-container-id-1 div.sk-toggleable__content pre {margin: 0.2em;color: black;border-radius: 0.25em;background-color: #f0f8ff;}#sk-container-id-1 input.sk-toggleable__control:checked~div.sk-toggleable__content {max-height: 200px;max-width: 100%;overflow: auto;}#sk-container-id-1 input.sk-toggleable__control:checked~label.sk-toggleable__label-arrow:before {content: \"▾\";}#sk-container-id-1 div.sk-estimator input.sk-toggleable__control:checked~label.sk-toggleable__label {background-color: #d4ebff;}#sk-container-id-1 div.sk-label input.sk-toggleable__control:checked~label.sk-toggleable__label {background-color: #d4ebff;}#sk-container-id-1 input.sk-hidden--visually {border: 0;clip: rect(1px 1px 1px 1px);clip: rect(1px, 1px, 1px, 1px);height: 1px;margin: -1px;overflow: hidden;padding: 0;position: absolute;width: 1px;}#sk-container-id-1 div.sk-estimator {font-family: monospace;background-color: #f0f8ff;border: 1px dotted black;border-radius: 0.25em;box-sizing: border-box;margin-bottom: 0.5em;}#sk-container-id-1 div.sk-estimator:hover {background-color: #d4ebff;}#sk-container-id-1 div.sk-parallel-item::after {content: \"\";width: 100%;border-bottom: 1px solid gray;flex-grow: 1;}#sk-container-id-1 div.sk-label:hover label.sk-toggleable__label {background-color: #d4ebff;}#sk-container-id-1 div.sk-serial::before {content: \"\";position: absolute;border-left: 1px solid gray;box-sizing: border-box;top: 0;bottom: 0;left: 50%;z-index: 0;}#sk-container-id-1 div.sk-serial {display: flex;flex-direction: column;align-items: center;background-color: white;padding-right: 0.2em;padding-left: 0.2em;position: relative;}#sk-container-id-1 div.sk-item {position: relative;z-index: 1;}#sk-container-id-1 div.sk-parallel {display: flex;align-items: stretch;justify-content: center;background-color: white;position: relative;}#sk-container-id-1 div.sk-item::before, #sk-container-id-1 div.sk-parallel-item::before {content: \"\";position: absolute;border-left: 1px solid gray;box-sizing: border-box;top: 0;bottom: 0;left: 50%;z-index: -1;}#sk-container-id-1 div.sk-parallel-item {display: flex;flex-direction: column;z-index: 1;position: relative;background-color: white;}#sk-container-id-1 div.sk-parallel-item:first-child::after {align-self: flex-end;width: 50%;}#sk-container-id-1 div.sk-parallel-item:last-child::after {align-self: flex-start;width: 50%;}#sk-container-id-1 div.sk-parallel-item:only-child::after {width: 0;}#sk-container-id-1 div.sk-dashed-wrapped {border: 1px dashed gray;margin: 0 0.4em 0.5em 0.4em;box-sizing: border-box;padding-bottom: 0.4em;background-color: white;}#sk-container-id-1 div.sk-label label {font-family: monospace;font-weight: bold;display: inline-block;line-height: 1.2em;}#sk-container-id-1 div.sk-label-container {text-align: center;}#sk-container-id-1 div.sk-container {/* jupyter's `normalize.less` sets `[hidden] { display: none; }` but bootstrap.min.css set `[hidden] { display: none !important; }` so we also need the `!important` here to be able to override the default hidden behavior on the sphinx rendered scikit-learn.org. See: https://github.com/scikit-learn/scikit-learn/issues/21755 */display: inline-block !important;position: relative;}#sk-container-id-1 div.sk-text-repr-fallback {display: none;}</style><div id=\"sk-container-id-1\" class=\"sk-top-container\"><div class=\"sk-text-repr-fallback\"><pre>RandomForestClassifier(max_depth=99, n_estimators=319, random_state=42)</pre><b>In a Jupyter environment, please rerun this cell to show the HTML representation or trust the notebook. <br />On GitHub, the HTML representation is unable to render, please try loading this page with nbviewer.org.</b></div><div class=\"sk-container\" hidden><div class=\"sk-item\"><div class=\"sk-estimator sk-toggleable\"><input class=\"sk-toggleable__control sk-hidden--visually\" id=\"sk-estimator-id-1\" type=\"checkbox\" checked><label for=\"sk-estimator-id-1\" class=\"sk-toggleable__label sk-toggleable__label-arrow\">RandomForestClassifier</label><div class=\"sk-toggleable__content\"><pre>RandomForestClassifier(max_depth=99, n_estimators=319, random_state=42)</pre></div></div></div></div></div>"
            ],
            "text/plain": [
              "RandomForestClassifier(max_depth=99, n_estimators=319, random_state=42)"
            ]
          },
          "execution_count": 26,
          "metadata": {},
          "output_type": "execute_result"
        }
      ],
      "source": [
        "# # Train the final Random Forest model with the best parameters\n",
        "best_rf = RandomForestClassifier(**study.best_params, random_state=42)\n",
        "best_rf.fit(X_train_pca, y_train)"
      ]
    },
    {
      "cell_type": "code",
      "execution_count": null,
      "metadata": {
        "colab": {
          "base_uri": "https://localhost:8080/"
        },
        "id": "htZTYkl-PIhe",
        "outputId": "8132efaa-5c2f-47d0-fd60-152cfe3899e0"
      },
      "outputs": [
        {
          "name": "stdout",
          "output_type": "stream",
          "text": [
            "Accuracy: 0.5333\n",
            "Classification Report:\n",
            "              precision    recall  f1-score   support\n",
            "\n",
            "           0       0.56      0.67      0.61       100\n",
            "           1       0.64      0.92      0.75       100\n",
            "           2       0.50      0.52      0.51       100\n",
            "           3       0.40      0.47      0.43       100\n",
            "           4       0.67      0.33      0.44       100\n",
            "           5       0.43      0.29      0.35       100\n",
            "\n",
            "    accuracy                           0.53       600\n",
            "   macro avg       0.53      0.53      0.52       600\n",
            "weighted avg       0.53      0.53      0.52       600\n",
            "\n"
          ]
        }
      ],
      "source": [
        "# Make predictions on the test set using the best model\n",
        "y_pred = best_rf.predict(X_test_pca)\n",
        "\n",
        "# Calculate accuracy and other evaluation metrics\n",
        "accuracy = accuracy_score(y_test, y_pred)\n",
        "print(f\"Accuracy: {accuracy:.4f}\")\n",
        "print(\"Classification Report:\")\n",
        "print(classification_report(y_test, y_pred))"
      ]
    },
    {
      "cell_type": "code",
      "execution_count": null,
      "metadata": {
        "colab": {
          "base_uri": "https://localhost:8080/",
          "height": 562
        },
        "id": "xKyJl1nBt8Aa",
        "outputId": "2d7a91c9-02b8-4c9f-a6c5-7d68f1f94cf6"
      },
      "outputs": [
        {
          "data": {
            "image/png": "[encoded data removed]",
            "text/plain": [
              "<Figure size 600x600 with 2 Axes>"
            ]
          },
          "metadata": {},
          "output_type": "display_data"
        }
      ],
      "source": [
        "# Confusion Matrix\n",
        "cm = confusion_matrix(y_test, y_pred)\n",
        "plt.figure(figsize=(6, 6))\n",
        "sns.heatmap(cm, annot=True, fmt='d', cmap='Blues')\n",
        "plt.title('Confusion Matrix')\n",
        "plt.ylabel('True Label')\n",
        "plt.xlabel('Predicted Label')\n",
        "plt.show()\n",
        "\n"
      ]
    },
    {
      "cell_type": "code",
      "execution_count": null,
      "metadata": {
        "colab": {
          "base_uri": "https://localhost:8080/"
        },
        "id": "xL5p3Lb2QKqh",
        "outputId": "fc68146b-1ea8-4d72-c8f4-44c059d3f0b5"
      },
      "outputs": [
        {
          "name": "stdout",
          "output_type": "stream",
          "text": [
            "Final model saved\n"
          ]
        }
      ],
      "source": [
        "# Save the final model\n",
        "joblib.dump(best_rf, '/content/drive/MyDrive/preprocessed_data/final_rf_model.joblib')\n",
        "print(\"Final model saved\")"
      ]
    },
    {
      "cell_type": "markdown",
      "metadata": {
        "id": "m7vLleT8ayGO"
      },
      "source": [
        "**XG Boost on feature set 1**"
      ]
    },
    {
      "cell_type": "code",
      "execution_count": null,
      "metadata": {
        "colab": {
          "base_uri": "https://localhost:8080/"
        },
        "id": "4hteyeOxj_XM",
        "outputId": "24bb38d8-887d-47d7-dc1b-0b223a9708bc"
      },
      "outputs": [
        {
          "name": "stderr",
          "output_type": "stream",
          "text": [
            "[I 2024-06-22 06:39:33,612] A new study created in memory with name: no-name-f57ff754-363a-47a8-b4d1-15fee2ae183c\n"
          ]
        },
        {
          "name": "stdout",
          "output_type": "stream",
          "text": [
            "Optimizing hyperparameters using Optuna...\n"
          ]
        },
        {
          "name": "stderr",
          "output_type": "stream",
          "text": [
            "[I 2024-06-22 06:42:38,944] Trial 0 finished with value: 0.54 and parameters: {'max_depth': 3, 'learning_rate': 0.014693308775809807, 'n_estimators': 262}. Best is trial 0 with value: 0.54.\n",
            "[I 2024-06-22 06:49:20,785] Trial 1 finished with value: 0.5283333333333333 and parameters: {'max_depth': 4, 'learning_rate': 0.013163695258337648, 'n_estimators': 374}. Best is trial 0 with value: 0.54.\n",
            "[I 2024-06-22 06:56:19,407] Trial 2 finished with value: 0.5366666666666666 and parameters: {'max_depth': 6, 'learning_rate': 0.1153535702650025, 'n_estimators': 424}. Best is trial 0 with value: 0.54.\n",
            "[I 2024-06-22 07:10:25,751] Trial 3 finished with value: 0.5416666666666666 and parameters: {'max_depth': 10, 'learning_rate': 0.04909954150240642, 'n_estimators': 366}. Best is trial 3 with value: 0.5416666666666666.\n",
            "[I 2024-06-22 07:19:09,223] Trial 4 finished with value: 0.5216666666666666 and parameters: {'max_depth': 4, 'learning_rate': 0.0037865015327454604, 'n_estimators': 490}. Best is trial 3 with value: 0.5416666666666666.\n",
            "[I 2024-06-22 07:25:05,709] Trial 5 finished with value: 0.5183333333333333 and parameters: {'max_depth': 7, 'learning_rate': 0.1409313715658681, 'n_estimators': 305}. Best is trial 3 with value: 0.5416666666666666.\n",
            "[I 2024-06-22 07:40:37,866] Trial 6 finished with value: 0.5316666666666666 and parameters: {'max_depth': 6, 'learning_rate': 0.012283707777652798, 'n_estimators': 372}. Best is trial 3 with value: 0.5416666666666666.\n",
            "[I 2024-06-22 07:43:06,559] Trial 7 finished with value: 0.535 and parameters: {'max_depth': 6, 'learning_rate': 0.550798623808321, 'n_estimators': 333}. Best is trial 3 with value: 0.5416666666666666.\n",
            "[I 2024-06-22 07:56:02,682] Trial 8 finished with value: 0.5233333333333333 and parameters: {'max_depth': 6, 'learning_rate': 0.005123684936212762, 'n_estimators': 297}. Best is trial 3 with value: 0.5416666666666666.\n",
            "[I 2024-06-22 08:11:58,409] Trial 9 finished with value: 0.5333333333333333 and parameters: {'max_depth': 9, 'learning_rate': 0.038932316409911745, 'n_estimators': 375}. Best is trial 3 with value: 0.5416666666666666.\n",
            "[I 2024-06-22 08:22:51,462] Trial 10 finished with value: 0.4633333333333333 and parameters: {'max_depth': 10, 'learning_rate': 0.0010463539033874166, 'n_estimators': 112}. Best is trial 3 with value: 0.5416666666666666.\n",
            "[I 2024-06-22 08:23:48,074] Trial 11 finished with value: 0.535 and parameters: {'max_depth': 2, 'learning_rate': 0.05732907859933621, 'n_estimators': 169}. Best is trial 3 with value: 0.5416666666666666.\n",
            "[I 2024-06-22 08:25:32,805] Trial 12 finished with value: 0.5283333333333333 and parameters: {'max_depth': 3, 'learning_rate': 0.4517810169521346, 'n_estimators': 211}. Best is trial 3 with value: 0.5416666666666666.\n",
            "[I 2024-06-22 08:42:03,938] Trial 13 finished with value: 0.525 and parameters: {'max_depth': 8, 'learning_rate': 0.014038816083179605, 'n_estimators': 232}. Best is trial 3 with value: 0.5416666666666666.\n",
            "[I 2024-06-22 08:46:25,800] Trial 14 finished with value: 0.5233333333333333 and parameters: {'max_depth': 10, 'learning_rate': 0.12388913188371227, 'n_estimators': 76}. Best is trial 3 with value: 0.5416666666666666.\n",
            "[I 2024-06-22 08:50:44,801] Trial 15 finished with value: 0.5366666666666666 and parameters: {'max_depth': 4, 'learning_rate': 0.024718639702286136, 'n_estimators': 247}. Best is trial 3 with value: 0.5416666666666666.\n",
            "[I 2024-06-22 09:27:35,190] Trial 16 finished with value: 0.5216666666666666 and parameters: {'max_depth': 8, 'learning_rate': 0.004245575931751408, 'n_estimators': 496}. Best is trial 3 with value: 0.5416666666666666.\n",
            "[I 2024-06-22 09:28:30,454] Trial 17 finished with value: 0.525 and parameters: {'max_depth': 2, 'learning_rate': 0.27377497109793586, 'n_estimators': 165}. Best is trial 3 with value: 0.5416666666666666.\n",
            "[I 2024-06-22 09:37:03,085] Trial 18 finished with value: 0.5483333333333333 and parameters: {'max_depth': 5, 'learning_rate': 0.06918791635485665, 'n_estimators': 423}. Best is trial 18 with value: 0.5483333333333333.\n",
            "[I 2024-06-22 09:45:02,074] Trial 19 finished with value: 0.5516666666666666 and parameters: {'max_depth': 5, 'learning_rate': 0.07921526001032073, 'n_estimators': 431}. Best is trial 19 with value: 0.5516666666666666.\n"
          ]
        },
        {
          "name": "stdout",
          "output_type": "stream",
          "text": [
            "Best hyperparameters: {'max_depth': 5, 'learning_rate': 0.07921526001032073, 'n_estimators': 431}\n"
          ]
        }
      ],
      "source": [
        "import numpy as np\n",
        "from sklearn.metrics import accuracy_score, classification_report, confusion_matrix\n",
        "import optuna\n",
        "import xgboost as xgb\n",
        "import joblib\n",
        "import matplotlib.pyplot as plt\n",
        "import seaborn as sns\n",
        "\n",
        "# Load the PCA-transformed data\n",
        "X_train_pca = np.load('/content/drive/MyDrive/preprocessed_data/X_train_pca.npy')\n",
        "y_train = np.load('/content/drive/MyDrive/preprocessed_data/y_train.npy')\n",
        "X_test_pca = np.load('/content/drive/MyDrive/preprocessed_data/X_test_pca.npy')\n",
        "y_test = np.load('/content/drive/MyDrive/preprocessed_data/y_test.npy')\n",
        "\n",
        "# Define the objective function for Optuna\n",
        "def objective(trial):\n",
        "    params = {\n",
        "        'max_depth': trial.suggest_int('max_depth', 2, 10),\n",
        "        'learning_rate': trial.suggest_float('learning_rate', 1e-3, 1.0, log=True),\n",
        "        'n_estimators': trial.suggest_int('n_estimators', 50, 500),\n",
        "    }\n",
        "\n",
        "    xgb_model = xgb.XGBClassifier(**params, random_state=42)\n",
        "    xgb_model.fit(X_train_pca, y_train)\n",
        "    y_pred = xgb_model.predict(X_test_pca)\n",
        "    accuracy = accuracy_score(y_test, y_pred)\n",
        "    return accuracy\n",
        "\n",
        "# Create an Optuna study\n",
        "study = optuna.create_study(direction='maximize')\n",
        "\n",
        "# Optimize the hyperparameters\n",
        "print(\"Optimizing hyperparameters using Optuna...\")\n",
        "study.optimize(objective, n_trials=20)\n",
        "\n",
        "# Print the best hyperparameters and best accuracy\n",
        "print(\"Best hyperparameters:\", study.best_params)"
      ]
    },
    {
      "cell_type": "code",
      "execution_count": null,
      "metadata": {
        "colab": {
          "base_uri": "https://localhost:8080/"
        },
        "id": "-X1ZkFcgj_v2",
        "outputId": "7075808b-9a76-4790-8b63-efa2b62ffc43"
      },
      "outputs": [
        {
          "name": "stdout",
          "output_type": "stream",
          "text": [
            "Accuracy: 0.5517\n",
            "Classification Report:\n",
            "              precision    recall  f1-score   support\n",
            "\n",
            "           0       0.62      0.70      0.66       100\n",
            "           1       0.74      0.89      0.81       100\n",
            "           2       0.48      0.63      0.54       100\n",
            "           3       0.41      0.41      0.41       100\n",
            "           4       0.63      0.42      0.50       100\n",
            "           5       0.39      0.26      0.31       100\n",
            "\n",
            "    accuracy                           0.55       600\n",
            "   macro avg       0.54      0.55      0.54       600\n",
            "weighted avg       0.54      0.55      0.54       600\n",
            "\n"
          ]
        }
      ],
      "source": [
        "# Train the XGBoost model with the best hyperparameters\n",
        "best_xgb = xgb.XGBClassifier(**study.best_params, random_state=42)\n",
        "best_xgb.fit(X_train_pca, y_train)\n",
        "\n",
        "# Make predictions on the test set using the best model\n",
        "y_pred = best_xgb.predict(X_test_pca)\n",
        "\n",
        "# Calculate accuracy and other evaluation metrics\n",
        "accuracy = accuracy_score(y_test, y_pred)\n",
        "print(f\"Accuracy: {accuracy:.4f}\")\n",
        "print(\"Classification Report:\")\n",
        "print(classification_report(y_test, y_pred))"
      ]
    },
    {
      "cell_type": "code",
      "execution_count": null,
      "metadata": {
        "id": "g3EhZ6Thj_yU"
      },
      "outputs": [],
      "source": [
        "# Confusion Matrix\n",
        "cm = confusion_matrix(y_test, y_pred)\n",
        "plt.figure(figsize=(8, 6))\n",
        "sns.heatmap(cm, annot=True, fmt='d', cmap='Blues')\n",
        "plt.title('Confusion Matrix')\n",
        "plt.ylabel('True Label')\n",
        "plt.xlabel('Predicted Label')\n",
        "plt.show()\n",
        "\n",
        "# Save the best model\n",
        "joblib.dump(best_xgb, '/content/drive/MyDrive/preprocessed_data/xgb_model.joblib')"
      ]
    },
    {
      "cell_type": "markdown",
      "metadata": {
        "id": "dafsSkvITFUN"
      },
      "source": [
        "**Preprocessing and Modeling on Features Set 2**\n",
        "\n",
        "Deep Features of VGG16 model\n"
      ]
    },
    {
      "cell_type": "code",
      "execution_count": null,
      "metadata": {
        "id": "3ML6_J3PygxO"
      },
      "outputs": [],
      "source": [
        "import numpy as np\n",
        "import os\n",
        "import cv2\n",
        "import random\n",
        "from sklearn.model_selection import train_test_split\n",
        "from sklearn.preprocessing import StandardScaler\n",
        "from tqdm import tqdm\n",
        "from keras.applications.vgg16 import VGG16\n",
        "from keras.applications.vgg16 import preprocess_input\n",
        "from keras.models import Model\n",
        "\n",
        "def resize_and_standardize(image_path, target_size=(224, 224)):\n",
        "    img = cv2.imread(image_path)\n",
        "    img = cv2.cvtColor(img, cv2.COLOR_BGR2RGB)\n",
        "    img = cv2.resize(img, target_size)\n",
        "    img = img.astype(np.float32) / 255.0\n",
        "    return img\n",
        "\n",
        "\n",
        "def extract_deep_features(image):\n",
        "    model = VGG16(weights='imagenet', include_top=False)\n",
        "    model = Model(inputs=model.inputs, outputs=model.layers[-1].output)\n",
        "    img_resized = cv2.resize(image, (224, 224))\n",
        "    img_array = np.expand_dims(img_resized, axis=0)\n",
        "    img_array = preprocess_input(img_array)\n",
        "    features = model.predict(img_array)\n",
        "    return features.flatten()\n"
      ]
    },
    {
      "cell_type": "code",
      "execution_count": null,
      "metadata": {
        "id": "OwGHrdatOfVl"
      },
      "outputs": [],
      "source": [
        "#taking only 500 imges from each class\n",
        "def preprocess_dataset(data_dir, target_size=(150, 150), max_per_class=500):\n",
        "    X = []\n",
        "    y = []\n",
        "    class_names = []\n",
        "\n",
        "    for class_name in os.listdir(data_dir):\n",
        "        class_path = os.path.join(data_dir, class_name)\n",
        "        if os.path.isdir(class_path):\n",
        "            class_names.append(class_name)\n",
        "            image_paths = [os.path.join(class_path, img_name) for img_name in os.listdir(class_path)\n",
        "                           if img_name.lower().endswith(('.png', '.jpg', '.jpeg', '.bmp', '.tiff'))]\n",
        "\n",
        "            # If it's the Forest class and has more than max_per_class images, randomly sample max_per_class images\n",
        "            if class_name == 'Forest' and len(image_paths) > max_per_class:\n",
        "                image_paths = random.sample(image_paths, max_per_class)\n",
        "\n",
        "            for img_path in tqdm(image_paths, desc=f\"Processing {class_name}\"):\n",
        "                img = resize_and_standardize(img_path, target_size)\n",
        "                features = extract_deep_features(img)\n",
        "                X.append(features)\n",
        "                y.append(class_names.index(class_name))\n",
        "\n",
        "    X = np.array(X)\n",
        "    y = np.array(y)\n",
        "\n",
        "    # Train-test split\n",
        "    X_train, X_test, y_train, y_test = train_test_split(X, y, test_size=0.2, stratify=y, random_state=42)\n",
        "\n",
        "    # Feature scaling\n",
        "    scaler = StandardScaler()\n",
        "    X_train_scaled = scaler.fit_transform(X_train)\n",
        "    X_test_scaled = scaler.transform(X_test)\n",
        "    return X_train_scaled, X_test_scaled, y_train, y_test, class_names, scaler\n",
        "\n"
      ]
    },
    {
      "cell_type": "code",
      "execution_count": null,
      "metadata": {
        "collapsed": true,
        "id": "RFDpIXfmygz_"
      },
      "outputs": [],
      "source": [
        "# Load the preprocessed dataset\n",
        "X_train, X_test, y_train, y_test, class_names, scaler = preprocess_dataset(data_dir)\n"
      ]
    },
    {
      "cell_type": "code",
      "execution_count": null,
      "metadata": {
        "colab": {
          "base_uri": "https://localhost:8080/"
        },
        "id": "rgN7Xi-nXNEQ",
        "outputId": "db258a2d-8b88-491f-b784-bb5343a37877"
      },
      "outputs": [
        {
          "name": "stdout",
          "output_type": "stream",
          "text": [
            "Preprocessed dataset shapes:\n",
            "X_train: (2400, 25088)\n",
            "X_test: (600, 25088)\n",
            "y_train: (2400,)\n",
            "y_test: (600,)\n"
          ]
        }
      ],
      "source": [
        "print(\"Preprocessed dataset shapes:\")\n",
        "print(f\"X_train: {X_train.shape}\")\n",
        "print(f\"X_test: {X_test.shape}\")\n",
        "print(f\"y_train: {y_train.shape}\")\n",
        "print(f\"y_test: {y_test.shape}\")"
      ]
    },
    {
      "cell_type": "code",
      "execution_count": null,
      "metadata": {
        "colab": {
          "base_uri": "https://localhost:8080/"
        },
        "id": "zX1l9vYYNtIZ",
        "outputId": "2ef0e432-0024-469a-da49-d7c2394baf35"
      },
      "outputs": [
        {
          "name": "stdout",
          "output_type": "stream",
          "text": [
            "All preprocessed data has been saved successfully.\n"
          ]
        }
      ],
      "source": [
        "import joblib\n",
        "import os\n",
        "\n",
        "# Directory to save the files\n",
        "save_dir = \"/content/drive/MyDrive/feat_2_data\"\n",
        "os.makedirs(save_dir, exist_ok=True)\n",
        "\n",
        "# Save the datasets\n",
        "joblib.dump(X_train, os.path.join(save_dir, 'X_train.pkl'))\n",
        "joblib.dump(X_test, os.path.join(save_dir, 'X_test.pkl'))\n",
        "joblib.dump(y_train, os.path.join(save_dir, 'y_train.pkl'))\n",
        "joblib.dump(y_test, os.path.join(save_dir, 'y_test.pkl'))\n",
        "joblib.dump(scaler, os.path.join(save_dir, 'scaler.pkl'))\n",
        "\n",
        "print(\"All preprocessed data has been saved successfully.\")\n"
      ]
    },
    {
      "cell_type": "code",
      "execution_count": null,
      "metadata": {
        "colab": {
          "base_uri": "https://localhost:8080/",
          "height": 579
        },
        "id": "vAYqVXZGkTZ3",
        "outputId": "54b83423-a7e2-44da-e2b2-1f97f360ecdf"
      },
      "outputs": [
        {
          "data": {
            "image/png": "[encoded data removed]",
            "text/plain": [
              "<Figure size 600x600 with 1 Axes>"
            ]
          },
          "metadata": {},
          "output_type": "display_data"
        },
        {
          "name": "stdout",
          "output_type": "stream",
          "text": [
            "Optimal number of components to retain 95% variance: 150\n"
          ]
        }
      ],
      "source": [
        "import numpy as np\n",
        "import matplotlib.pyplot as plt\n",
        "from sklearn.decomposition import PCA\n",
        "\n",
        "# Fit PCA to the training data\n",
        "pca = PCA().fit(X_train)\n",
        "\n",
        "# Calculate the cumulative explained variance\n",
        "cumulative_explained_variance = np.cumsum(pca.explained_variance_ratio_)\n",
        "\n",
        "# Plot the explained variance\n",
        "plt.figure(figsize=(6, 6))\n",
        "plt.plot(range(1, len(cumulative_explained_variance) + 1), cumulative_explained_variance, marker='o', linestyle='--')\n",
        "plt.xlabel('Number of Components')\n",
        "plt.ylabel('Cumulative Explained Variance')\n",
        "plt.title('Explained Variance vs. Number of Components')\n",
        "plt.axhline(y=0.95, color='r', linestyle='-')\n",
        "plt.axvline(x=np.argmax(cumulative_explained_variance >= 0.95) + 1, color='r', linestyle='-')\n",
        "plt.grid()\n",
        "plt.show()\n",
        "\n",
        "# Print the number of components needed to explain 95% variance\n",
        "optimal_components = np.argmax(cumulative_explained_variance >= 0.95) + 1\n",
        "print(f\"Optimal number of components to retain 95% variance: {optimal_components}\")\n"
      ]
    },
    {
      "cell_type": "code",
      "execution_count": null,
      "metadata": {
        "colab": {
          "base_uri": "https://localhost:8080/"
        },
        "id": "pSwZdcf1kclM",
        "outputId": "cc3cdb39-9ae1-465c-d875-41b0ecd31be2"
      },
      "outputs": [
        {
          "name": "stdout",
          "output_type": "stream",
          "text": [
            "Original number of features: 25088\n",
            "Number of features after PCA: 150\n"
          ]
        }
      ],
      "source": [
        "# Fit PCA with the optimal number of components\n",
        "optimal_pca = PCA(n_components=optimal_components)\n",
        "X_train_pca = optimal_pca.fit_transform(X_train)\n",
        "X_test_pca = optimal_pca.transform(X_test)\n",
        "\n",
        "print(f\"Original number of features: {X_train.shape[1]}\")\n",
        "print(f\"Number of features after PCA: {X_train_pca.shape[1]}\")"
      ]
    },
    {
      "cell_type": "code",
      "execution_count": null,
      "metadata": {
        "colab": {
          "base_uri": "https://localhost:8080/"
        },
        "id": "tfV36Fs6l0VO",
        "outputId": "5cbbfbce-0b71-4662-933c-811ca14fad48"
      },
      "outputs": [
        {
          "name": "stdout",
          "output_type": "stream",
          "text": [
            "PCA-transformed datasets and PCA object have been saved.\n"
          ]
        }
      ],
      "source": [
        "import numpy as np\n",
        "import joblib\n",
        "import os\n",
        "\n",
        "# Define the directory to save the files\n",
        "save_dir = \"/content/drive/MyDrive/feat_2_data\"\n",
        "\n",
        "# Ensure the directory exists\n",
        "os.makedirs(save_dir, exist_ok=True)\n",
        "\n",
        "# Save the PCA-transformed training data\n",
        "np.save(os.path.join(save_dir, \"X_train_pca.npy\"), X_train_pca)\n",
        "np.save(os.path.join(save_dir, \"y_train.npy\"), y_train)\n",
        "\n",
        "# Save the PCA-transformed test data\n",
        "np.save(os.path.join(save_dir, \"X_test_pca.npy\"), X_test_pca)\n",
        "np.save(os.path.join(save_dir, \"y_test.npy\"), y_test)\n",
        "\n",
        "# Save the PCA object itself\n",
        "joblib.dump(optimal_pca, os.path.join(save_dir, \"optimal_pca.pkl\"))\n",
        "\n",
        "print(\"PCA-transformed datasets and PCA object have been saved.\")\n"
      ]
    },
    {
      "cell_type": "markdown",
      "metadata": {
        "id": "9MDIvp83nAgO"
      },
      "source": [
        "Xgboost model on feature set 2\n"
      ]
    },
    {
      "cell_type": "code",
      "execution_count": null,
      "metadata": {
        "colab": {
          "base_uri": "https://localhost:8080/"
        },
        "id": "qqLHX6G_mNcF",
        "outputId": "f487fb30-2db0-4f03-c6ba-709b2e663c9f"
      },
      "outputs": [
        {
          "name": "stderr",
          "output_type": "stream",
          "text": [
            "[I 2024-06-22 20:21:59,792] A new study created in memory with name: no-name-f222a5e1-8a4f-46bd-b0b4-36cada7a3fd6\n"
          ]
        },
        {
          "name": "stdout",
          "output_type": "stream",
          "text": [
            "Optimizing hyperparameters using Optuna...\n"
          ]
        },
        {
          "name": "stderr",
          "output_type": "stream",
          "text": [
            "[I 2024-06-22 20:24:50,765] Trial 0 finished with value: 0.5316666666666666 and parameters: {'max_depth': 6, 'learning_rate': 0.002041265923142945, 'n_estimators': 397}. Best is trial 0 with value: 0.5316666666666666.\n",
            "[I 2024-06-22 20:25:36,094] Trial 1 finished with value: 0.5983333333333334 and parameters: {'max_depth': 8, 'learning_rate': 0.09350051028869065, 'n_estimators': 97}. Best is trial 1 with value: 0.5983333333333334.\n",
            "[I 2024-06-22 20:26:09,898] Trial 2 finished with value: 0.5283333333333333 and parameters: {'max_depth': 3, 'learning_rate': 0.0030572452335511672, 'n_estimators': 499}. Best is trial 1 with value: 0.5983333333333334.\n",
            "[I 2024-06-22 20:28:22,527] Trial 3 finished with value: 0.5033333333333333 and parameters: {'max_depth': 8, 'learning_rate': 0.0020170987222172796, 'n_estimators': 170}. Best is trial 1 with value: 0.5983333333333334.\n",
            "[I 2024-06-22 20:29:07,458] Trial 4 finished with value: 0.6 and parameters: {'max_depth': 10, 'learning_rate': 0.20120801541612354, 'n_estimators': 358}. Best is trial 4 with value: 0.6.\n",
            "[I 2024-06-22 20:29:48,787] Trial 5 finished with value: 0.61 and parameters: {'max_depth': 13, 'learning_rate': 0.2275588649426498, 'n_estimators': 321}. Best is trial 5 with value: 0.61.\n",
            "[I 2024-06-22 20:29:54,014] Trial 6 finished with value: 0.595 and parameters: {'max_depth': 2, 'learning_rate': 0.082249685575427, 'n_estimators': 199}. Best is trial 5 with value: 0.61.\n",
            "[I 2024-06-22 20:32:33,447] Trial 7 finished with value: 0.5483333333333333 and parameters: {'max_depth': 6, 'learning_rate': 0.004095453355183668, 'n_estimators': 415}. Best is trial 5 with value: 0.61.\n",
            "[I 2024-06-22 20:34:51,277] Trial 8 finished with value: 0.5833333333333334 and parameters: {'max_depth': 18, 'learning_rate': 0.04429966706196475, 'n_estimators': 294}. Best is trial 5 with value: 0.61.\n",
            "[I 2024-06-22 20:38:36,911] Trial 9 finished with value: 0.49666666666666665 and parameters: {'max_depth': 11, 'learning_rate': 0.0027377707744783777, 'n_estimators': 217}. Best is trial 5 with value: 0.61.\n",
            "[I 2024-06-22 20:38:51,454] Trial 10 finished with value: 0.5783333333333334 and parameters: {'max_depth': 16, 'learning_rate': 0.87210308597747, 'n_estimators': 301}. Best is trial 5 with value: 0.61.\n",
            "[I 2024-06-22 20:39:20,879] Trial 11 finished with value: 0.6133333333333333 and parameters: {'max_depth': 14, 'learning_rate': 0.36793179423099426, 'n_estimators': 360}. Best is trial 11 with value: 0.6133333333333333.\n",
            "[I 2024-06-22 20:39:40,201] Trial 12 finished with value: 0.605 and parameters: {'max_depth': 15, 'learning_rate': 0.5347963199404004, 'n_estimators': 346}. Best is trial 11 with value: 0.6133333333333333.\n",
            "[I 2024-06-22 20:45:24,361] Trial 13 finished with value: 0.575 and parameters: {'max_depth': 14, 'learning_rate': 0.013221977139003869, 'n_estimators': 461}. Best is trial 11 with value: 0.6133333333333333.\n",
            "[I 2024-06-22 20:45:57,546] Trial 14 finished with value: 0.5866666666666667 and parameters: {'max_depth': 20, 'learning_rate': 0.29483219169614555, 'n_estimators': 245}. Best is trial 11 with value: 0.6133333333333333.\n",
            "[I 2024-06-22 20:46:44,330] Trial 15 finished with value: 0.6233333333333333 and parameters: {'max_depth': 13, 'learning_rate': 0.1851587465511226, 'n_estimators': 336}. Best is trial 15 with value: 0.6233333333333333.\n",
            "[I 2024-06-22 20:52:12,465] Trial 16 finished with value: 0.5583333333333333 and parameters: {'max_depth': 17, 'learning_rate': 0.012286644027045589, 'n_estimators': 379}. Best is trial 15 with value: 0.6233333333333333.\n",
            "[I 2024-06-22 20:53:33,175] Trial 17 finished with value: 0.5966666666666667 and parameters: {'max_depth': 13, 'learning_rate': 0.0978064309169718, 'n_estimators': 431}. Best is trial 15 with value: 0.6233333333333333.\n",
            "[I 2024-06-22 20:53:53,584] Trial 18 finished with value: 0.5983333333333334 and parameters: {'max_depth': 19, 'learning_rate': 0.47630558257361155, 'n_estimators': 144}. Best is trial 15 with value: 0.6233333333333333.\n",
            "[I 2024-06-22 20:56:25,821] Trial 19 finished with value: 0.575 and parameters: {'max_depth': 12, 'learning_rate': 0.03290949578701792, 'n_estimators': 260}. Best is trial 15 with value: 0.6233333333333333.\n"
          ]
        },
        {
          "name": "stdout",
          "output_type": "stream",
          "text": [
            "Best hyperparameters: {'max_depth': 13, 'learning_rate': 0.1851587465511226, 'n_estimators': 336}\n"
          ]
        }
      ],
      "source": [
        "import numpy as np\n",
        "from sklearn.metrics import accuracy_score, classification_report, confusion_matrix\n",
        "import optuna\n",
        "import xgboost as xgb\n",
        "import joblib\n",
        "import matplotlib.pyplot as plt\n",
        "import seaborn as sns\n",
        "\n",
        "# Define the objective function for Optuna\n",
        "def objective(trial):\n",
        "    params = {\n",
        "        'max_depth': trial.suggest_int('max_depth', 2, 20),\n",
        "        'learning_rate': trial.suggest_float('learning_rate', 1e-3, 1.0, log=True),\n",
        "        'n_estimators': trial.suggest_int('n_estimators', 50, 500),\n",
        "    }\n",
        "\n",
        "    xgb_model = xgb.XGBClassifier(**params, random_state=42)\n",
        "    xgb_model.fit(X_train_pca, y_train)\n",
        "    y_pred = xgb_model.predict(X_test_pca)\n",
        "    accuracy = accuracy_score(y_test, y_pred)\n",
        "    return accuracy\n",
        "\n",
        "# Create an Optuna study\n",
        "study = optuna.create_study(direction='maximize')\n",
        "\n",
        "# Optimize the hyperparameters\n",
        "print(\"Optimizing hyperparameters using Optuna...\")\n",
        "study.optimize(objective, n_trials=20)\n",
        "\n",
        "# Print the best hyperparameters and best accuracy\n",
        "print(\"Best hyperparameters:\", study.best_params)"
      ]
    },
    {
      "cell_type": "code",
      "execution_count": null,
      "metadata": {
        "colab": {
          "base_uri": "https://localhost:8080/"
        },
        "id": "s0mycS3TnEhQ",
        "outputId": "f96ef16e-a9a8-4c4b-ff8c-bf57e561586e"
      },
      "outputs": [
        {
          "name": "stdout",
          "output_type": "stream",
          "text": [
            "Accuracy: 0.6233\n",
            "Classification Report:\n",
            "              precision    recall  f1-score   support\n",
            "\n",
            "           0       0.67      0.67      0.67       100\n",
            "           1       0.77      0.85      0.81       100\n",
            "           2       0.55      0.48      0.51       100\n",
            "           3       0.54      0.52      0.53       100\n",
            "           4       0.60      0.60      0.60       100\n",
            "           5       0.59      0.62      0.60       100\n",
            "\n",
            "    accuracy                           0.62       600\n",
            "   macro avg       0.62      0.62      0.62       600\n",
            "weighted avg       0.62      0.62      0.62       600\n",
            "\n"
          ]
        }
      ],
      "source": [
        "# Train the XGBoost model with the best hyperparameters\n",
        "best_xgb = xgb.XGBClassifier(**study.best_params, random_state=42)\n",
        "best_xgb.fit(X_train_pca, y_train)\n",
        "\n",
        "# Make predictions on the test set using the best model\n",
        "y_pred = best_xgb.predict(X_test_pca)\n",
        "\n",
        "# Calculate accuracy and other evaluation metrics\n",
        "accuracy = accuracy_score(y_test, y_pred)\n",
        "print(f\"Accuracy: {accuracy:.4f}\")\n",
        "print(\"Classification Report:\")\n",
        "print(classification_report(y_test, y_pred))"
      ]
    },
    {
      "cell_type": "code",
      "execution_count": null,
      "metadata": {
        "colab": {
          "base_uri": "https://localhost:8080/",
          "height": 579
        },
        "id": "PtRaKmU9vV-k",
        "outputId": "dfe5341b-8b25-4fec-bc9f-93f1b10e8e82"
      },
      "outputs": [
        {
          "data": {
            "image/png": "[encoded data removed]",
            "text/plain": [
              "<Figure size 800x600 with 2 Axes>"
            ]
          },
          "metadata": {},
          "output_type": "display_data"
        },
        {
          "data": {
            "text/plain": [
              "['/content/drive/MyDrive/feat_2_data/xgb_model_2.joblib']"
            ]
          },
          "execution_count": 31,
          "metadata": {},
          "output_type": "execute_result"
        }
      ],
      "source": [
        "# Confusion Matrix\n",
        "cm = confusion_matrix(y_test, y_pred)\n",
        "plt.figure(figsize=(8, 6))\n",
        "sns.heatmap(cm, annot=True, fmt='d', cmap='Blues')\n",
        "plt.title('Confusion Matrix')\n",
        "plt.ylabel('True Label')\n",
        "plt.xlabel('Predicted Label')\n",
        "plt.show()\n",
        "\n",
        "# Save the best model\n",
        "joblib.dump(best_xgb, '/content/drive/MyDrive/feat_2_data/xgb_model_2.joblib')"
      ]
    },
    {
      "cell_type": "markdown",
      "metadata": {
        "id": "SV-XLinfwLQ-"
      },
      "source": [
        "Random Forest on feature set 2"
      ]
    },
    {
      "cell_type": "code",
      "execution_count": null,
      "metadata": {
        "colab": {
          "base_uri": "https://localhost:8080/"
        },
        "id": "gdg8-9FZvvej",
        "outputId": "4450fd86-ad23-40ed-c941-1e54bf14a008"
      },
      "outputs": [
        {
          "name": "stderr",
          "output_type": "stream",
          "text": [
            "[I 2024-06-22 21:01:41,372] A new study created in memory with name: no-name-f5b73a03-5212-4c2a-8e02-f295a8fc145d\n"
          ]
        },
        {
          "name": "stdout",
          "output_type": "stream",
          "text": [
            "Optimizing hyperparameters using Optuna...\n"
          ]
        },
        {
          "name": "stderr",
          "output_type": "stream",
          "text": [
            "[I 2024-06-22 21:01:54,919] Trial 0 finished with value: 0.58 and parameters: {'n_estimators': 305, 'max_depth': 60}. Best is trial 0 with value: 0.58.\n",
            "[I 2024-06-22 21:02:04,827] Trial 1 finished with value: 0.5816666666666667 and parameters: {'n_estimators': 301, 'max_depth': 91}. Best is trial 1 with value: 0.5816666666666667.\n",
            "[I 2024-06-22 21:02:11,750] Trial 2 finished with value: 0.5733333333333334 and parameters: {'n_estimators': 246, 'max_depth': 25}. Best is trial 1 with value: 0.5816666666666667.\n",
            "[I 2024-06-22 21:02:28,301] Trial 3 finished with value: 0.5883333333333334 and parameters: {'n_estimators': 463, 'max_depth': 80}. Best is trial 3 with value: 0.5883333333333334.\n",
            "[I 2024-06-22 21:02:35,612] Trial 4 finished with value: 0.5633333333333334 and parameters: {'n_estimators': 141, 'max_depth': 92}. Best is trial 3 with value: 0.5883333333333334.\n",
            "[I 2024-06-22 21:02:59,269] Trial 5 finished with value: 0.585 and parameters: {'n_estimators': 478, 'max_depth': None}. Best is trial 3 with value: 0.5883333333333334.\n",
            "[I 2024-06-22 21:03:14,867] Trial 6 finished with value: 0.5766666666666667 and parameters: {'n_estimators': 378, 'max_depth': 80}. Best is trial 3 with value: 0.5883333333333334.\n",
            "[I 2024-06-22 21:03:24,871] Trial 7 finished with value: 0.5833333333333334 and parameters: {'n_estimators': 295, 'max_depth': 87}. Best is trial 3 with value: 0.5883333333333334.\n",
            "[I 2024-06-22 21:03:53,383] Trial 8 finished with value: 0.5883333333333334 and parameters: {'n_estimators': 485, 'max_depth': 87}. Best is trial 3 with value: 0.5883333333333334.\n",
            "[I 2024-06-22 21:04:11,465] Trial 9 finished with value: 0.5733333333333334 and parameters: {'n_estimators': 256, 'max_depth': 87}. Best is trial 3 with value: 0.5883333333333334.\n",
            "[I 2024-06-22 21:04:25,427] Trial 10 finished with value: 0.5866666666666667 and parameters: {'n_estimators': 402, 'max_depth': 80}. Best is trial 3 with value: 0.5883333333333334.\n",
            "[I 2024-06-22 21:04:40,987] Trial 11 finished with value: 0.5866666666666667 and parameters: {'n_estimators': 496, 'max_depth': 17}. Best is trial 3 with value: 0.5883333333333334.\n",
            "[I 2024-06-22 21:04:52,034] Trial 12 finished with value: 0.5966666666666667 and parameters: {'n_estimators': 421, 'max_depth': 10}. Best is trial 12 with value: 0.5966666666666667.\n",
            "[I 2024-06-22 21:05:02,442] Trial 13 finished with value: 0.5983333333333334 and parameters: {'n_estimators': 414, 'max_depth': 10}. Best is trial 13 with value: 0.5983333333333334.\n",
            "[I 2024-06-22 21:05:14,101] Trial 14 finished with value: 0.5966666666666667 and parameters: {'n_estimators': 407, 'max_depth': 10}. Best is trial 13 with value: 0.5983333333333334.\n",
            "[I 2024-06-22 21:05:24,246] Trial 15 finished with value: 0.5866666666666667 and parameters: {'n_estimators': 357, 'max_depth': 10}. Best is trial 13 with value: 0.5983333333333334.\n",
            "[I 2024-06-22 21:05:39,178] Trial 16 finished with value: 0.5816666666666667 and parameters: {'n_estimators': 427, 'max_depth': 87}. Best is trial 13 with value: 0.5983333333333334.\n",
            "[I 2024-06-22 21:05:49,085] Trial 17 finished with value: 0.5833333333333334 and parameters: {'n_estimators': 357, 'max_depth': 87}. Best is trial 13 with value: 0.5983333333333334.\n",
            "[I 2024-06-22 21:05:54,514] Trial 18 finished with value: 0.5816666666666667 and parameters: {'n_estimators': 161, 'max_depth': 10}. Best is trial 13 with value: 0.5983333333333334.\n",
            "[I 2024-06-22 21:06:07,740] Trial 19 finished with value: 0.5833333333333334 and parameters: {'n_estimators': 421, 'max_depth': 84}. Best is trial 13 with value: 0.5983333333333334.\n",
            "[I 2024-06-22 21:06:17,967] Trial 20 finished with value: 0.58 and parameters: {'n_estimators': 337, 'max_depth': 87}. Best is trial 13 with value: 0.5983333333333334.\n",
            "[I 2024-06-22 21:06:32,323] Trial 21 finished with value: 0.595 and parameters: {'n_estimators': 438, 'max_depth': 10}. Best is trial 13 with value: 0.5983333333333334.\n",
            "[I 2024-06-22 21:06:43,305] Trial 22 finished with value: 0.5916666666666667 and parameters: {'n_estimators': 391, 'max_depth': 10}. Best is trial 13 with value: 0.5983333333333334.\n",
            "[I 2024-06-22 21:06:57,505] Trial 23 finished with value: 0.5833333333333334 and parameters: {'n_estimators': 454, 'max_depth': 87}. Best is trial 13 with value: 0.5983333333333334.\n",
            "[I 2024-06-22 21:07:09,718] Trial 24 finished with value: 0.585 and parameters: {'n_estimators': 405, 'max_depth': 87}. Best is trial 13 with value: 0.5983333333333334.\n",
            "[I 2024-06-22 21:07:19,875] Trial 25 finished with value: 0.5783333333333334 and parameters: {'n_estimators': 341, 'max_depth': 87}. Best is trial 13 with value: 0.5983333333333334.\n",
            "[I 2024-06-22 21:07:26,847] Trial 26 finished with value: 0.57 and parameters: {'n_estimators': 198, 'max_depth': 87}. Best is trial 13 with value: 0.5983333333333334.\n",
            "[I 2024-06-22 21:07:37,802] Trial 27 finished with value: 0.575 and parameters: {'n_estimators': 375, 'max_depth': 87}. Best is trial 13 with value: 0.5983333333333334.\n",
            "[I 2024-06-22 21:07:52,075] Trial 28 finished with value: 0.5866666666666667 and parameters: {'n_estimators': 446, 'max_depth': 87}. Best is trial 13 with value: 0.5983333333333334.\n",
            "[I 2024-06-22 21:08:03,425] Trial 29 finished with value: 0.575 and parameters: {'n_estimators': 333, 'max_depth': 87}. Best is trial 13 with value: 0.5983333333333334.\n",
            "[I 2024-06-22 21:08:16,933] Trial 30 finished with value: 0.585 and parameters: {'n_estimators': 415, 'max_depth': 87}. Best is trial 13 with value: 0.5983333333333334.\n",
            "[I 2024-06-22 21:08:29,341] Trial 31 finished with value: 0.5933333333333334 and parameters: {'n_estimators': 456, 'max_depth': 10}. Best is trial 13 with value: 0.5983333333333334.\n",
            "[I 2024-06-22 21:08:42,419] Trial 32 finished with value: 0.59 and parameters: {'n_estimators': 440, 'max_depth': 87}. Best is trial 13 with value: 0.5983333333333334.\n",
            "[I 2024-06-22 21:08:51,129] Trial 33 finished with value: 0.5883333333333334 and parameters: {'n_estimators': 308, 'max_depth': 10}. Best is trial 13 with value: 0.5983333333333334.\n",
            "[I 2024-06-22 21:09:04,832] Trial 34 finished with value: 0.5833333333333334 and parameters: {'n_estimators': 428, 'max_depth': 87}. Best is trial 13 with value: 0.5983333333333334.\n",
            "[I 2024-06-22 21:09:17,369] Trial 35 finished with value: 0.5833333333333334 and parameters: {'n_estimators': 387, 'max_depth': 87}. Best is trial 13 with value: 0.5983333333333334.\n",
            "[I 2024-06-22 21:09:32,120] Trial 36 finished with value: 0.5866666666666667 and parameters: {'n_estimators': 466, 'max_depth': 60}. Best is trial 13 with value: 0.5983333333333334.\n",
            "[I 2024-06-22 21:09:42,455] Trial 37 finished with value: 0.5833333333333334 and parameters: {'n_estimators': 362, 'max_depth': 91}. Best is trial 13 with value: 0.5983333333333334.\n",
            "[I 2024-06-22 21:09:52,353] Trial 38 finished with value: 0.58 and parameters: {'n_estimators': 277, 'max_depth': 25}. Best is trial 13 with value: 0.5983333333333334.\n",
            "[I 2024-06-22 21:09:55,409] Trial 39 finished with value: 0.5633333333333334 and parameters: {'n_estimators': 109, 'max_depth': 87}. Best is trial 13 with value: 0.5983333333333334.\n",
            "[I 2024-06-22 21:10:08,659] Trial 40 finished with value: 0.595 and parameters: {'n_estimators': 471, 'max_depth': 10}. Best is trial 13 with value: 0.5983333333333334.\n",
            "[I 2024-06-22 21:10:24,205] Trial 41 finished with value: 0.59 and parameters: {'n_estimators': 499, 'max_depth': 87}. Best is trial 13 with value: 0.5983333333333334.\n",
            "[I 2024-06-22 21:10:38,653] Trial 42 finished with value: 0.5866666666666667 and parameters: {'n_estimators': 470, 'max_depth': 87}. Best is trial 13 with value: 0.5983333333333334.\n",
            "[I 2024-06-22 21:10:52,038] Trial 43 finished with value: 0.5933333333333334 and parameters: {'n_estimators': 438, 'max_depth': 87}. Best is trial 13 with value: 0.5983333333333334.\n",
            "[I 2024-06-22 21:11:06,621] Trial 44 finished with value: 0.585 and parameters: {'n_estimators': 481, 'max_depth': 87}. Best is trial 13 with value: 0.5983333333333334.\n",
            "[I 2024-06-22 21:11:18,454] Trial 45 finished with value: 0.5833333333333334 and parameters: {'n_estimators': 404, 'max_depth': 87}. Best is trial 13 with value: 0.5983333333333334.\n",
            "[I 2024-06-22 21:11:32,730] Trial 46 finished with value: 0.585 and parameters: {'n_estimators': 478, 'max_depth': 87}. Best is trial 13 with value: 0.5983333333333334.\n",
            "[I 2024-06-22 21:11:45,397] Trial 47 finished with value: 0.585 and parameters: {'n_estimators': 435, 'max_depth': 87}. Best is trial 13 with value: 0.5983333333333334.\n",
            "[I 2024-06-22 21:11:58,180] Trial 48 finished with value: 0.585 and parameters: {'n_estimators': 415, 'max_depth': 87}. Best is trial 13 with value: 0.5983333333333334.\n",
            "[I 2024-06-22 21:12:10,052] Trial 49 finished with value: 0.5733333333333334 and parameters: {'n_estimators': 380, 'max_depth': 87}. Best is trial 13 with value: 0.5983333333333334.\n",
            "[I 2024-06-22 21:12:23,868] Trial 50 finished with value: 0.59 and parameters: {'n_estimators': 462, 'max_depth': 87}. Best is trial 13 with value: 0.5983333333333334.\n",
            "[I 2024-06-22 21:12:35,932] Trial 51 finished with value: 0.595 and parameters: {'n_estimators': 453, 'max_depth': 10}. Best is trial 13 with value: 0.5983333333333334.\n",
            "[I 2024-06-22 21:12:46,747] Trial 52 finished with value: 0.5966666666666667 and parameters: {'n_estimators': 452, 'max_depth': 10}. Best is trial 13 with value: 0.5983333333333334.\n",
            "[I 2024-06-22 21:12:59,412] Trial 53 finished with value: 0.5783333333333334 and parameters: {'n_estimators': 396, 'max_depth': 87}. Best is trial 13 with value: 0.5983333333333334.\n",
            "[I 2024-06-22 21:13:14,209] Trial 54 finished with value: 0.5883333333333334 and parameters: {'n_estimators': 489, 'max_depth': 87}. Best is trial 13 with value: 0.5983333333333334.\n",
            "[I 2024-06-22 21:13:27,209] Trial 55 finished with value: 0.585 and parameters: {'n_estimators': 422, 'max_depth': 87}. Best is trial 13 with value: 0.5983333333333334.\n",
            "[I 2024-06-22 21:13:38,357] Trial 56 finished with value: 0.5966666666666667 and parameters: {'n_estimators': 412, 'max_depth': 10}. Best is trial 13 with value: 0.5983333333333334.\n",
            "[I 2024-06-22 21:13:48,806] Trial 57 finished with value: 0.5816666666666667 and parameters: {'n_estimators': 369, 'max_depth': 87}. Best is trial 13 with value: 0.5983333333333334.\n",
            "[I 2024-06-22 21:14:01,079] Trial 58 finished with value: 0.58 and parameters: {'n_estimators': 407, 'max_depth': 87}. Best is trial 13 with value: 0.5983333333333334.\n",
            "[I 2024-06-22 21:14:08,481] Trial 59 finished with value: 0.5716666666666667 and parameters: {'n_estimators': 219, 'max_depth': 87}. Best is trial 13 with value: 0.5983333333333334.\n",
            "[I 2024-06-22 21:14:15,700] Trial 60 finished with value: 0.5933333333333334 and parameters: {'n_estimators': 312, 'max_depth': 10}. Best is trial 13 with value: 0.5983333333333334.\n",
            "[I 2024-06-22 21:14:29,342] Trial 61 finished with value: 0.585 and parameters: {'n_estimators': 445, 'max_depth': 87}. Best is trial 13 with value: 0.5983333333333334.\n",
            "[I 2024-06-22 21:14:42,447] Trial 62 finished with value: 0.5833333333333334 and parameters: {'n_estimators': 428, 'max_depth': 87}. Best is trial 13 with value: 0.5983333333333334.\n",
            "[I 2024-06-22 21:14:56,996] Trial 63 finished with value: 0.5866666666666667 and parameters: {'n_estimators': 475, 'max_depth': 87}. Best is trial 13 with value: 0.5983333333333334.\n",
            "[I 2024-06-22 21:15:08,031] Trial 64 finished with value: 0.5833333333333334 and parameters: {'n_estimators': 350, 'max_depth': 87}. Best is trial 13 with value: 0.5983333333333334.\n",
            "[I 2024-06-22 21:15:17,393] Trial 65 finished with value: 0.595 and parameters: {'n_estimators': 394, 'max_depth': 10}. Best is trial 13 with value: 0.5983333333333334.\n",
            "[I 2024-06-22 21:15:28,425] Trial 66 finished with value: 0.5966666666666667 and parameters: {'n_estimators': 412, 'max_depth': 10}. Best is trial 13 with value: 0.5983333333333334.\n",
            "[I 2024-06-22 21:15:44,059] Trial 67 finished with value: 0.5866666666666667 and parameters: {'n_estimators': 414, 'max_depth': 87}. Best is trial 13 with value: 0.5983333333333334.\n",
            "[I 2024-06-22 21:15:55,941] Trial 68 finished with value: 0.58 and parameters: {'n_estimators': 385, 'max_depth': 87}. Best is trial 13 with value: 0.5983333333333334.\n",
            "[I 2024-06-22 21:16:09,741] Trial 69 finished with value: 0.5883333333333334 and parameters: {'n_estimators': 450, 'max_depth': 87}. Best is trial 13 with value: 0.5983333333333334.\n",
            "[I 2024-06-22 21:16:22,417] Trial 70 finished with value: 0.5833333333333334 and parameters: {'n_estimators': 436, 'max_depth': 87}. Best is trial 13 with value: 0.5983333333333334.\n",
            "[I 2024-06-22 21:16:34,166] Trial 71 finished with value: 0.595 and parameters: {'n_estimators': 458, 'max_depth': 10}. Best is trial 13 with value: 0.5983333333333334.\n",
            "[I 2024-06-22 21:16:45,448] Trial 72 finished with value: 0.595 and parameters: {'n_estimators': 426, 'max_depth': 10}. Best is trial 13 with value: 0.5983333333333334.\n",
            "[I 2024-06-22 21:16:58,199] Trial 73 finished with value: 0.5816666666666667 and parameters: {'n_estimators': 408, 'max_depth': 92}. Best is trial 13 with value: 0.5983333333333334.\n",
            "[I 2024-06-22 21:17:13,134] Trial 74 finished with value: 0.5883333333333334 and parameters: {'n_estimators': 487, 'max_depth': 87}. Best is trial 13 with value: 0.5983333333333334.\n",
            "[I 2024-06-22 21:17:27,566] Trial 75 finished with value: 0.5866666666666667 and parameters: {'n_estimators': 470, 'max_depth': 87}. Best is trial 13 with value: 0.5983333333333334.\n",
            "[I 2024-06-22 21:17:39,885] Trial 76 finished with value: 0.58 and parameters: {'n_estimators': 397, 'max_depth': None}. Best is trial 13 with value: 0.5983333333333334.\n",
            "[I 2024-06-22 21:17:52,865] Trial 77 finished with value: 0.5883333333333334 and parameters: {'n_estimators': 442, 'max_depth': 87}. Best is trial 13 with value: 0.5983333333333334.\n",
            "[I 2024-06-22 21:18:02,613] Trial 78 finished with value: 0.585 and parameters: {'n_estimators': 370, 'max_depth': 10}. Best is trial 13 with value: 0.5983333333333334.\n",
            "[I 2024-06-22 21:18:15,338] Trial 79 finished with value: 0.5816666666666667 and parameters: {'n_estimators': 418, 'max_depth': 87}. Best is trial 13 with value: 0.5983333333333334.\n",
            "[I 2024-06-22 21:18:28,631] Trial 80 finished with value: 0.5816666666666667 and parameters: {'n_estimators': 435, 'max_depth': 17}. Best is trial 13 with value: 0.5983333333333334.\n",
            "[I 2024-06-22 21:18:40,517] Trial 81 finished with value: 0.5966666666666667 and parameters: {'n_estimators': 452, 'max_depth': 10}. Best is trial 13 with value: 0.5983333333333334.\n",
            "[I 2024-06-22 21:18:52,172] Trial 82 finished with value: 0.5933333333333334 and parameters: {'n_estimators': 462, 'max_depth': 10}. Best is trial 13 with value: 0.5983333333333334.\n",
            "[I 2024-06-22 21:19:03,750] Trial 83 finished with value: 0.595 and parameters: {'n_estimators': 453, 'max_depth': 10}. Best is trial 13 with value: 0.5983333333333334.\n",
            "[I 2024-06-22 21:19:16,820] Trial 84 finished with value: 0.585 and parameters: {'n_estimators': 425, 'max_depth': 84}. Best is trial 13 with value: 0.5983333333333334.\n",
            "[I 2024-06-22 21:19:31,681] Trial 85 finished with value: 0.59 and parameters: {'n_estimators': 492, 'max_depth': 87}. Best is trial 13 with value: 0.5983333333333334.\n",
            "[I 2024-06-22 21:19:44,428] Trial 86 finished with value: 0.5816666666666667 and parameters: {'n_estimators': 411, 'max_depth': 87}. Best is trial 13 with value: 0.5983333333333334.\n",
            "[I 2024-06-22 21:19:56,429] Trial 87 finished with value: 0.5966666666666667 and parameters: {'n_estimators': 445, 'max_depth': 10}. Best is trial 13 with value: 0.5983333333333334.\n",
            "[I 2024-06-22 21:20:08,813] Trial 88 finished with value: 0.5833333333333334 and parameters: {'n_estimators': 401, 'max_depth': 87}. Best is trial 13 with value: 0.5983333333333334.\n",
            "[I 2024-06-22 21:20:21,888] Trial 89 finished with value: 0.585 and parameters: {'n_estimators': 445, 'max_depth': 87}. Best is trial 13 with value: 0.5983333333333334.\n",
            "[I 2024-06-22 21:20:34,720] Trial 90 finished with value: 0.5833333333333334 and parameters: {'n_estimators': 432, 'max_depth': 87}. Best is trial 13 with value: 0.5983333333333334.\n",
            "[I 2024-06-22 21:20:47,325] Trial 91 finished with value: 0.595 and parameters: {'n_estimators': 469, 'max_depth': 10}. Best is trial 13 with value: 0.5983333333333334.\n",
            "[I 2024-06-22 21:21:00,269] Trial 92 finished with value: 0.5933333333333334 and parameters: {'n_estimators': 482, 'max_depth': 10}. Best is trial 13 with value: 0.5983333333333334.\n",
            "[I 2024-06-22 21:21:13,113] Trial 93 finished with value: 0.5833333333333334 and parameters: {'n_estimators': 419, 'max_depth': 87}. Best is trial 13 with value: 0.5983333333333334.\n",
            "[I 2024-06-22 21:21:25,505] Trial 94 finished with value: 0.595 and parameters: {'n_estimators': 458, 'max_depth': 10}. Best is trial 13 with value: 0.5983333333333334.\n",
            "[I 2024-06-22 21:21:36,544] Trial 95 finished with value: 0.5816666666666667 and parameters: {'n_estimators': 382, 'max_depth': 87}. Best is trial 13 with value: 0.5983333333333334.\n",
            "[I 2024-06-22 21:21:49,708] Trial 96 finished with value: 0.5866666666666667 and parameters: {'n_estimators': 446, 'max_depth': 87}. Best is trial 13 with value: 0.5983333333333334.\n",
            "[I 2024-06-22 21:22:02,874] Trial 97 finished with value: 0.5816666666666667 and parameters: {'n_estimators': 433, 'max_depth': 80}. Best is trial 13 with value: 0.5983333333333334.\n",
            "[I 2024-06-22 21:22:13,738] Trial 98 finished with value: 0.5966666666666667 and parameters: {'n_estimators': 402, 'max_depth': 10}. Best is trial 13 with value: 0.5983333333333334.\n",
            "[I 2024-06-22 21:22:26,163] Trial 99 finished with value: 0.585 and parameters: {'n_estimators': 405, 'max_depth': 87}. Best is trial 13 with value: 0.5983333333333334.\n"
          ]
        },
        {
          "name": "stdout",
          "output_type": "stream",
          "text": [
            "Best hyperparameters:\n",
            "{'n_estimators': 414, 'max_depth': 10}\n"
          ]
        }
      ],
      "source": [
        "import numpy as np\n",
        "from sklearn.ensemble import RandomForestClassifier\n",
        "from sklearn.metrics import accuracy_score, classification_report, confusion_matrix\n",
        "import optuna\n",
        "from scipy.stats import randint as sp_randint\n",
        "import joblib\n",
        "import matplotlib.pyplot as plt\n",
        "import seaborn as sns\n",
        "\n",
        "# Define the parameter space\n",
        "param_dist = {\n",
        "    'n_estimators': sp_randint(100, 500),\n",
        "    'max_depth': [None] + list(sp_randint(10, 100).rvs(10))\n",
        "}\n",
        "\n",
        "# Define the objective function for Optuna\n",
        "def objective(trial):\n",
        "    # Sample hyperparameters from the parameter space\n",
        "    n_estimators = trial.suggest_int('n_estimators', param_dist['n_estimators'].a, param_dist['n_estimators'].b)\n",
        "    max_depth = trial.suggest_categorical('max_depth', param_dist['max_depth'])\n",
        "\n",
        "    # Create the Random Forest classifier with the sampled hyperparameters\n",
        "    rf = RandomForestClassifier(\n",
        "        n_estimators=n_estimators,\n",
        "        max_depth=max_depth,\n",
        "        random_state=42\n",
        "    )\n",
        "\n",
        "    # Fit the Random Forest classifier\n",
        "    rf.fit(X_train_pca, y_train)\n",
        "    # Make predictions on the test set\n",
        "    y_pred = rf.predict(X_test_pca)\n",
        "    # Calculate accuracy as the objective value\n",
        "    accuracy = accuracy_score(y_test, y_pred)\n",
        "    return accuracy\n",
        "\n",
        "# Create an Optuna study\n",
        "study = optuna.create_study(direction='maximize')\n",
        "\n",
        "# Optimize the hyperparameters\n",
        "print(\"Optimizing hyperparameters using Optuna...\")\n",
        "study.optimize(objective, n_trials=100)\n",
        "\n",
        "# Print the best hyperparameters\n",
        "print(\"Best hyperparameters:\")\n",
        "print(study.best_params)"
      ]
    },
    {
      "cell_type": "code",
      "execution_count": null,
      "metadata": {
        "colab": {
          "base_uri": "https://localhost:8080/"
        },
        "id": "JWITYoG8wTpt",
        "outputId": "a459e4de-15f0-41f5-c931-0006b3c129fc"
      },
      "outputs": [
        {
          "name": "stdout",
          "output_type": "stream",
          "text": [
            "Accuracy: 0.5983\n",
            "Classification Report:\n",
            "              precision    recall  f1-score   support\n",
            "\n",
            "           0       0.69      0.73      0.71       100\n",
            "           1       0.76      0.83      0.79       100\n",
            "           2       0.51      0.41      0.46       100\n",
            "           3       0.47      0.52      0.50       100\n",
            "           4       0.56      0.54      0.55       100\n",
            "           5       0.57      0.56      0.56       100\n",
            "\n",
            "    accuracy                           0.60       600\n",
            "   macro avg       0.59      0.60      0.59       600\n",
            "weighted avg       0.59      0.60      0.59       600\n",
            "\n"
          ]
        }
      ],
      "source": [
        "# # Train the final Random Forest model with the best parameters\n",
        "best_rf = RandomForestClassifier(**study.best_params, random_state=42)\n",
        "best_rf.fit(X_train_pca, y_train)\n",
        "\n",
        "# Make predictions on the test set using the best model\n",
        "y_pred = best_rf.predict(X_test_pca)\n",
        "\n",
        "# Calculate accuracy and other evaluation metrics\n",
        "accuracy = accuracy_score(y_test, y_pred)\n",
        "print(f\"Accuracy: {accuracy:.4f}\")\n",
        "print(\"Classification Report:\")\n",
        "print(classification_report(y_test, y_pred))"
      ]
    },
    {
      "cell_type": "code",
      "execution_count": null,
      "metadata": {
        "colab": {
          "base_uri": "https://localhost:8080/",
          "height": 579
        },
        "id": "gALEJycWwkhO",
        "outputId": "5a8f8e30-e94b-4188-9f5a-788dbc864279"
      },
      "outputs": [
        {
          "data": {
            "image/png": "[encoded data removed]",
            "text/plain": [
              "<Figure size 600x600 with 2 Axes>"
            ]
          },
          "metadata": {},
          "output_type": "display_data"
        },
        {
          "name": "stdout",
          "output_type": "stream",
          "text": [
            "Final model saved\n"
          ]
        }
      ],
      "source": [
        "# Confusion Matrix\n",
        "cm = confusion_matrix(y_test, y_pred)\n",
        "plt.figure(figsize=(6, 6))\n",
        "sns.heatmap(cm, annot=True, fmt='d', cmap='Blues')\n",
        "plt.title('Confusion Matrix')\n",
        "plt.ylabel('True Label')\n",
        "plt.xlabel('Predicted Label')\n",
        "plt.show()\n",
        "\n",
        "# Save the model\n",
        "joblib.dump(best_rf, '/content/drive/MyDrive/feat_2_data/rf_model_2.joblib')\n",
        "print(\"Final model saved\")"
      ]
    },
    {
      "cell_type": "markdown",
      "metadata": {
        "id": "jOSzcCMwS5zk"
      },
      "source": [
        "RESULT"
      ]
    },
    {
      "cell_type": "code",
      "execution_count": 4,
      "metadata": {
        "colab": {
          "base_uri": "https://localhost:8080/",
          "height": 175
        },
        "id": "t5jm6PjKS4kz",
        "outputId": "39d788f6-4e5a-417e-e486-e62e207dfc80"
      },
      "outputs": [
        {
          "data": {
            "text/html": [
              "<style type=\"text/css\">\n",
              "#T_30594_row3_col2 {\n",
              "  background-color: grey;\n",
              "}\n",
              "</style>\n",
              "<table id=\"T_30594\" class=\"dataframe\">\n",
              "  <thead>\n",
              "    <tr>\n",
              "      <th class=\"blank level0\" >&nbsp;</th>\n",
              "      <th id=\"T_30594_level0_col0\" class=\"col_heading level0 col0\" >Model</th>\n",
              "      <th id=\"T_30594_level0_col1\" class=\"col_heading level0 col1\" >Features</th>\n",
              "      <th id=\"T_30594_level0_col2\" class=\"col_heading level0 col2\" >Accuracy (%)</th>\n",
              "    </tr>\n",
              "  </thead>\n",
              "  <tbody>\n",
              "    <tr>\n",
              "      <th id=\"T_30594_level0_row0\" class=\"row_heading level0 row0\" >0</th>\n",
              "      <td id=\"T_30594_row0_col0\" class=\"data row0 col0\" >Random Forest (RF)</td>\n",
              "      <td id=\"T_30594_row0_col1\" class=\"data row0 col1\" >HOG, Color Histogram, Haralick</td>\n",
              "      <td id=\"T_30594_row0_col2\" class=\"data row0 col2\" >53.330000</td>\n",
              "    </tr>\n",
              "    <tr>\n",
              "      <th id=\"T_30594_level0_row1\" class=\"row_heading level0 row1\" >1</th>\n",
              "      <td id=\"T_30594_row1_col0\" class=\"data row1 col0\" >XGBoost (XGB)</td>\n",
              "      <td id=\"T_30594_row1_col1\" class=\"data row1 col1\" >HOG, Color Histogram, Haralick</td>\n",
              "      <td id=\"T_30594_row1_col2\" class=\"data row1 col2\" >55.170000</td>\n",
              "    </tr>\n",
              "    <tr>\n",
              "      <th id=\"T_30594_level0_row2\" class=\"row_heading level0 row2\" >2</th>\n",
              "      <td id=\"T_30594_row2_col0\" class=\"data row2 col0\" >Random Forest (RF)</td>\n",
              "      <td id=\"T_30594_row2_col1\" class=\"data row2 col1\" >Deep Features</td>\n",
              "      <td id=\"T_30594_row2_col2\" class=\"data row2 col2\" >59.830000</td>\n",
              "    </tr>\n",
              "    <tr>\n",
              "      <th id=\"T_30594_level0_row3\" class=\"row_heading level0 row3\" >3</th>\n",
              "      <td id=\"T_30594_row3_col0\" class=\"data row3 col0\" >XGBoost (XGB)</td>\n",
              "      <td id=\"T_30594_row3_col1\" class=\"data row3 col1\" >Deep Features</td>\n",
              "      <td id=\"T_30594_row3_col2\" class=\"data row3 col2\" >62.330000</td>\n",
              "    </tr>\n",
              "  </tbody>\n",
              "</table>\n"
            ],
            "text/plain": [
              "<pandas.io.formats.style.Styler at 0x7e46f041f5e0>"
            ]
          },
          "execution_count": 4,
          "metadata": {},
          "output_type": "execute_result"
        }
      ],
      "source": [
        "import pandas as pd\n",
        "\n",
        "# Create a DataFrame with the given data\n",
        "data = {\n",
        "    'Model': ['Random Forest (RF)', 'XGBoost (XGB)', 'Random Forest (RF)', 'XGBoost (XGB)'],\n",
        "    'Features': ['HOG, Color Histogram, Haralick', 'HOG, Color Histogram, Haralick', 'Deep Features', 'Deep Features'],\n",
        "    'Accuracy (%)': [53.33, 55.17, 59.83, 62.33]\n",
        "}\n",
        "\n",
        "df = pd.DataFrame(data)\n",
        "\n",
        "# Highlight the row with the highest accuracy\n",
        "def highlight_max_row(s):\n",
        "    is_max = s == s.max()\n",
        "    return ['background-color: grey' if v else '' for v in is_max]\n",
        "\n",
        "# Apply the highlighting function to the DataFrame\n",
        "styled_df = df.style.apply(highlight_max_row, subset=['Accuracy (%)'], axis=0)\n",
        "\n",
        "styled_df\n"
      ]
    },
    {
      "cell_type": "markdown",
      "metadata": {},
      "source": [
        "**Conclusion**"
      ]
    },
    {
      "cell_type": "markdown",
      "metadata": {},
      "source": [
        "\n",
        "Image Preprocessing:\n",
        "- Images were resized to a standard size:\n",
        "  - 150x150 for feature set 1 (HOG, color histogram, Haralick texture features)\n",
        "  - 224x224 for feature set 2 (VGG16 deep features)\n",
        "- Image color space was converted from BGR to RGB\n",
        "- Pixel values were normalized to the range [0, 1]\n",
        "- Relevant features were extracted:\n",
        "  - Feature set 1: HOG, color histogram, and Haralick texture features\n",
        "  - Feature set 2: Deep features from the pre-trained VGG16 model\n",
        "- Data was split into training and testing sets\n",
        "- Feature values were standardized using StandardScaler\n",
        "\n",
        "Feature Set Importance:\n",
        "- HOG (Histogram of Oriented Gradients) features:\n",
        "  - Capture edge and gradient structure of images\n",
        "  - Provide information about the shape and texture of objects\n",
        "\n",
        "- Color Histograms:\n",
        "  - Represent the distribution of colors in the image\n",
        "  - Useful for distinguishing scenes with different color profiles\n",
        "\n",
        "- Haralick Texture Features:\n",
        "  - Capture statistical properties of image texture\n",
        "  - Computed from the Gray Level Co-occurrence Matrix (GLCM)\n",
        "  - Provide information about the spatial arrangement of intensities\n",
        "\n",
        "- Deep Features from VGG16:\n",
        "  - Extracted from the pre-trained VGG16 convolutional neural network\n",
        "  - Provide a high-level, semantic representation of the image content\n",
        "  - Leverage the model's ability to detect complex visual patterns\n",
        "\n",
        "\n",
        "Dimensionality Reduction:\n",
        "- Principal Component Analysis (PCA) was used to reduce feature dimensionality\n",
        "- Feature Set 1:\n",
        "  - Original feature size: 125257\n",
        "  - PCA reduced to 1199 components while retaining 90% of the variance\n",
        "\n",
        "- Feature Set 2 (Deep Features):\n",
        "  - Original feature size: 25088\n",
        "  - PCA reduced to 150 components while preserving 95% of the variance\n",
        "\n",
        "- Benefits of dimensionality reduction:\n",
        "  - Avoids overfitting by removing redundant or noisy features\n",
        "  - Reduces computational costs during training and inference\n",
        "  - Can improve model accuracy by focusing on the most informative features\n",
        "\n",
        "Model Evaluation:\n",
        "- Accuracy: the primary metric, measures the percentage of correctly classified images\n",
        "- Precision: the proportion of true positive predictions among all positive predictions\n",
        "- Recall: the proportion of true positive predictions among all actual positive instances\n",
        "- F1 Score: the harmonic mean of precision and recall, providing a balanced measure\n",
        "- Confusion Matrices:\n",
        "  - Visualize the distribution of predictions across classes\n",
        "  - Help identify classes that are frequently confused with each other\n",
        "\n",
        "Results Comparison:\n",
        "- Deep features (Feature Set 2) outperformed the custom feature set (Feature Set 1)\n",
        "  - Deep features capture high-level semantic information\n",
        "  - More effective for distinguishing between scene categories\n",
        "\n",
        "- XGBoost slightly outperformed Random Forest on both feature sets\n",
        "  - XGBoost: 55.17% accuracy on Feature Set 1, 62.33% accuracy on Feature Set 2\n",
        "  - Random Forest: 53.33% accuracy on Feature Set 1, 59.83% accuracy on Feature Set 2\n",
        "\n",
        "- Both models performed competitively, suggesting the choice of features had a larger impact than the choice of model\n",
        "\n",
        "Enhancement and Automation:\n",
        "- Potential improvements:\n",
        "  - Expand the training dataset to increase diversity and robustness\n",
        "  - Fine-tune the deep feature extractor (VGG16) on the specific dataset\n",
        "  - Explore ensemble methods combining multiple models or feature sets\n",
        "  - We can use all the images from forest class and use data augmentation.\n",
        "\n",
        "- Automating feature extraction:\n",
        "  - Train deep learning models end-to-end directly on the images\n",
        "  - Models learn to extract appropriate feature representations automatically\n",
        "  - Eliminates the need for manual feature engineering\n",
        "\n"
      ]
    },
    {
      "cell_type": "markdown",
      "metadata": {},
      "source": [
        "**Summary:**\n",
        "\n",
        "The goal was to classify images into 6 categories: Streets, Forest, Sea, Glacier, Building, and Mountains. Two different feature sets were used:\n",
        "\n",
        "HOG features, color histograms, and Haralick texture features.\n",
        "\n",
        "Deep features extracted from a pre-trained VGG16 model.\n",
        "\n",
        "The extracted features underwent dimensionality reduction using PCA.\n",
        "Random Forest and XGBoost models were trained on each feature set, with hyperparameter tuning using Optuna. Model performance was evaluated using accuracy and other classification metrics.\n",
        "\n",
        "The best performing model was XGBoost trained on the deep features, achieving 62.33% accuracy. Random Forest on deep features got 59.83% accuracy. The HOG+color histogram+texture feature set performed worse, with 55.17% accuracy for XGBoost and 53.33% for Random Forest."
      ]
    }
  ],
  "metadata": {
    "accelerator": "GPU",
    "colab": {
      "gpuType": "T4",
      "provenance": []
    },
    "kernelspec": {
      "display_name": "Python 3",
      "name": "python3"
    },
    "language_info": {
      "codemirror_mode": {
        "name": "ipython",
        "version": 3
      },
      "file_extension": ".py",
      "mimetype": "text/x-python",
      "name": "python",
      "nbconvert_exporter": "python",
      "pygments_lexer": "ipython3",
      "version": "3.9.12"
    }
  },
  "nbformat": 4,
  "nbformat_minor": 0
}
